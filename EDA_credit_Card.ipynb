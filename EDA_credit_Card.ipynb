{
  "nbformat": 4,
  "nbformat_minor": 0,
  "metadata": {
    "colab": {
      "name": "EDA_credit_Card.ipynb",
      "provenance": [],
      "collapsed_sections": [
        "ojKiQs3SYval",
        "x5tiU3RnmLue"
      ]
    },
    "kernelspec": {
      "name": "python3",
      "display_name": "Python 3"
    },
    "language_info": {
      "name": "python"
    },
    "accelerator": "GPU"
  },
  "cells": [
    {
      "cell_type": "code",
      "metadata": {
        "colab": {
          "base_uri": "https://localhost:8080/"
        },
        "id": "HfUmtioDRGto",
        "outputId": "95038a87-69fc-4308-894f-9ef2f9c20249"
      },
      "source": [
        "from google.colab import drive\n",
        "drive.mount(\"/content/drive/\")"
      ],
      "execution_count": null,
      "outputs": [
        {
          "output_type": "stream",
          "name": "stdout",
          "text": [
            "Drive already mounted at /content/drive/; to attempt to forcibly remount, call drive.mount(\"/content/drive/\", force_remount=True).\n"
          ]
        }
      ]
    },
    {
      "cell_type": "code",
      "metadata": {
        "colab": {
          "base_uri": "https://localhost:8080/"
        },
        "id": "0tUm-8z1VcUX",
        "outputId": "a7131669-879c-43af-c469-b47c134a0a35"
      },
      "source": [
        "!unzip /content/drive/MyDrive/dataset/credit_card_fraud_detection.zip"
      ],
      "execution_count": null,
      "outputs": [
        {
          "output_type": "stream",
          "name": "stdout",
          "text": [
            "Archive:  /content/drive/MyDrive/dataset/credit_card_fraud_detection.zip\n",
            "replace application_data.csv? [y]es, [n]o, [A]ll, [N]one, [r]ename: "
          ]
        }
      ]
    },
    {
      "cell_type": "code",
      "metadata": {
        "id": "ji4YdQwoRVUP"
      },
      "source": [
        "import pandas as pd\n",
        "import numpy as np\n",
        "df = pd.read_csv(\"/content/application_data.csv\")"
      ],
      "execution_count": null,
      "outputs": []
    },
    {
      "cell_type": "code",
      "metadata": {
        "colab": {
          "base_uri": "https://localhost:8080/",
          "height": 321
        },
        "id": "5tA8d18HRlAC",
        "outputId": "24fb4026-e7e1-42fe-9959-7962f9285851"
      },
      "source": [
        "df.head()"
      ],
      "execution_count": null,
      "outputs": [
        {
          "output_type": "execute_result",
          "data": {
            "text/html": [
              "<div>\n",
              "<style scoped>\n",
              "    .dataframe tbody tr th:only-of-type {\n",
              "        vertical-align: middle;\n",
              "    }\n",
              "\n",
              "    .dataframe tbody tr th {\n",
              "        vertical-align: top;\n",
              "    }\n",
              "\n",
              "    .dataframe thead th {\n",
              "        text-align: right;\n",
              "    }\n",
              "</style>\n",
              "<table border=\"1\" class=\"dataframe\">\n",
              "  <thead>\n",
              "    <tr style=\"text-align: right;\">\n",
              "      <th></th>\n",
              "      <th>SK_ID_CURR</th>\n",
              "      <th>TARGET</th>\n",
              "      <th>NAME_CONTRACT_TYPE</th>\n",
              "      <th>CODE_GENDER</th>\n",
              "      <th>FLAG_OWN_CAR</th>\n",
              "      <th>FLAG_OWN_REALTY</th>\n",
              "      <th>CNT_CHILDREN</th>\n",
              "      <th>AMT_INCOME_TOTAL</th>\n",
              "      <th>AMT_CREDIT</th>\n",
              "      <th>AMT_ANNUITY</th>\n",
              "      <th>AMT_GOODS_PRICE</th>\n",
              "      <th>NAME_TYPE_SUITE</th>\n",
              "      <th>NAME_INCOME_TYPE</th>\n",
              "      <th>NAME_EDUCATION_TYPE</th>\n",
              "      <th>NAME_FAMILY_STATUS</th>\n",
              "      <th>NAME_HOUSING_TYPE</th>\n",
              "      <th>REGION_POPULATION_RELATIVE</th>\n",
              "      <th>DAYS_BIRTH</th>\n",
              "      <th>DAYS_EMPLOYED</th>\n",
              "      <th>DAYS_REGISTRATION</th>\n",
              "      <th>DAYS_ID_PUBLISH</th>\n",
              "      <th>OWN_CAR_AGE</th>\n",
              "      <th>FLAG_MOBIL</th>\n",
              "      <th>FLAG_EMP_PHONE</th>\n",
              "      <th>FLAG_WORK_PHONE</th>\n",
              "      <th>FLAG_CONT_MOBILE</th>\n",
              "      <th>FLAG_PHONE</th>\n",
              "      <th>FLAG_EMAIL</th>\n",
              "      <th>OCCUPATION_TYPE</th>\n",
              "      <th>CNT_FAM_MEMBERS</th>\n",
              "      <th>REGION_RATING_CLIENT</th>\n",
              "      <th>REGION_RATING_CLIENT_W_CITY</th>\n",
              "      <th>WEEKDAY_APPR_PROCESS_START</th>\n",
              "      <th>HOUR_APPR_PROCESS_START</th>\n",
              "      <th>REG_REGION_NOT_LIVE_REGION</th>\n",
              "      <th>REG_REGION_NOT_WORK_REGION</th>\n",
              "      <th>LIVE_REGION_NOT_WORK_REGION</th>\n",
              "      <th>REG_CITY_NOT_LIVE_CITY</th>\n",
              "      <th>REG_CITY_NOT_WORK_CITY</th>\n",
              "      <th>LIVE_CITY_NOT_WORK_CITY</th>\n",
              "      <th>...</th>\n",
              "      <th>LIVINGAPARTMENTS_MEDI</th>\n",
              "      <th>LIVINGAREA_MEDI</th>\n",
              "      <th>NONLIVINGAPARTMENTS_MEDI</th>\n",
              "      <th>NONLIVINGAREA_MEDI</th>\n",
              "      <th>FONDKAPREMONT_MODE</th>\n",
              "      <th>HOUSETYPE_MODE</th>\n",
              "      <th>TOTALAREA_MODE</th>\n",
              "      <th>WALLSMATERIAL_MODE</th>\n",
              "      <th>EMERGENCYSTATE_MODE</th>\n",
              "      <th>OBS_30_CNT_SOCIAL_CIRCLE</th>\n",
              "      <th>DEF_30_CNT_SOCIAL_CIRCLE</th>\n",
              "      <th>OBS_60_CNT_SOCIAL_CIRCLE</th>\n",
              "      <th>DEF_60_CNT_SOCIAL_CIRCLE</th>\n",
              "      <th>DAYS_LAST_PHONE_CHANGE</th>\n",
              "      <th>FLAG_DOCUMENT_2</th>\n",
              "      <th>FLAG_DOCUMENT_3</th>\n",
              "      <th>FLAG_DOCUMENT_4</th>\n",
              "      <th>FLAG_DOCUMENT_5</th>\n",
              "      <th>FLAG_DOCUMENT_6</th>\n",
              "      <th>FLAG_DOCUMENT_7</th>\n",
              "      <th>FLAG_DOCUMENT_8</th>\n",
              "      <th>FLAG_DOCUMENT_9</th>\n",
              "      <th>FLAG_DOCUMENT_10</th>\n",
              "      <th>FLAG_DOCUMENT_11</th>\n",
              "      <th>FLAG_DOCUMENT_12</th>\n",
              "      <th>FLAG_DOCUMENT_13</th>\n",
              "      <th>FLAG_DOCUMENT_14</th>\n",
              "      <th>FLAG_DOCUMENT_15</th>\n",
              "      <th>FLAG_DOCUMENT_16</th>\n",
              "      <th>FLAG_DOCUMENT_17</th>\n",
              "      <th>FLAG_DOCUMENT_18</th>\n",
              "      <th>FLAG_DOCUMENT_19</th>\n",
              "      <th>FLAG_DOCUMENT_20</th>\n",
              "      <th>FLAG_DOCUMENT_21</th>\n",
              "      <th>AMT_REQ_CREDIT_BUREAU_HOUR</th>\n",
              "      <th>AMT_REQ_CREDIT_BUREAU_DAY</th>\n",
              "      <th>AMT_REQ_CREDIT_BUREAU_WEEK</th>\n",
              "      <th>AMT_REQ_CREDIT_BUREAU_MON</th>\n",
              "      <th>AMT_REQ_CREDIT_BUREAU_QRT</th>\n",
              "      <th>AMT_REQ_CREDIT_BUREAU_YEAR</th>\n",
              "    </tr>\n",
              "  </thead>\n",
              "  <tbody>\n",
              "    <tr>\n",
              "      <th>0</th>\n",
              "      <td>100002</td>\n",
              "      <td>1</td>\n",
              "      <td>Cash loans</td>\n",
              "      <td>M</td>\n",
              "      <td>N</td>\n",
              "      <td>Y</td>\n",
              "      <td>0</td>\n",
              "      <td>202500.0</td>\n",
              "      <td>406597.5</td>\n",
              "      <td>24700.5</td>\n",
              "      <td>351000.0</td>\n",
              "      <td>Unaccompanied</td>\n",
              "      <td>Working</td>\n",
              "      <td>Secondary / secondary special</td>\n",
              "      <td>Single / not married</td>\n",
              "      <td>House / apartment</td>\n",
              "      <td>0.018801</td>\n",
              "      <td>-9461</td>\n",
              "      <td>-637</td>\n",
              "      <td>-3648.0</td>\n",
              "      <td>-2120</td>\n",
              "      <td>NaN</td>\n",
              "      <td>1</td>\n",
              "      <td>1</td>\n",
              "      <td>0</td>\n",
              "      <td>1</td>\n",
              "      <td>1</td>\n",
              "      <td>0</td>\n",
              "      <td>Laborers</td>\n",
              "      <td>1.0</td>\n",
              "      <td>2</td>\n",
              "      <td>2</td>\n",
              "      <td>WEDNESDAY</td>\n",
              "      <td>10</td>\n",
              "      <td>0</td>\n",
              "      <td>0</td>\n",
              "      <td>0</td>\n",
              "      <td>0</td>\n",
              "      <td>0</td>\n",
              "      <td>0</td>\n",
              "      <td>...</td>\n",
              "      <td>0.0205</td>\n",
              "      <td>0.0193</td>\n",
              "      <td>0.0000</td>\n",
              "      <td>0.00</td>\n",
              "      <td>reg oper account</td>\n",
              "      <td>block of flats</td>\n",
              "      <td>0.0149</td>\n",
              "      <td>Stone, brick</td>\n",
              "      <td>No</td>\n",
              "      <td>2.0</td>\n",
              "      <td>2.0</td>\n",
              "      <td>2.0</td>\n",
              "      <td>2.0</td>\n",
              "      <td>-1134.0</td>\n",
              "      <td>0</td>\n",
              "      <td>1</td>\n",
              "      <td>0</td>\n",
              "      <td>0</td>\n",
              "      <td>0</td>\n",
              "      <td>0</td>\n",
              "      <td>0</td>\n",
              "      <td>0</td>\n",
              "      <td>0</td>\n",
              "      <td>0</td>\n",
              "      <td>0</td>\n",
              "      <td>0</td>\n",
              "      <td>0</td>\n",
              "      <td>0</td>\n",
              "      <td>0</td>\n",
              "      <td>0</td>\n",
              "      <td>0</td>\n",
              "      <td>0</td>\n",
              "      <td>0</td>\n",
              "      <td>0</td>\n",
              "      <td>0.0</td>\n",
              "      <td>0.0</td>\n",
              "      <td>0.0</td>\n",
              "      <td>0.0</td>\n",
              "      <td>0.0</td>\n",
              "      <td>1.0</td>\n",
              "    </tr>\n",
              "    <tr>\n",
              "      <th>1</th>\n",
              "      <td>100003</td>\n",
              "      <td>0</td>\n",
              "      <td>Cash loans</td>\n",
              "      <td>F</td>\n",
              "      <td>N</td>\n",
              "      <td>N</td>\n",
              "      <td>0</td>\n",
              "      <td>270000.0</td>\n",
              "      <td>1293502.5</td>\n",
              "      <td>35698.5</td>\n",
              "      <td>1129500.0</td>\n",
              "      <td>Family</td>\n",
              "      <td>State servant</td>\n",
              "      <td>Higher education</td>\n",
              "      <td>Married</td>\n",
              "      <td>House / apartment</td>\n",
              "      <td>0.003541</td>\n",
              "      <td>-16765</td>\n",
              "      <td>-1188</td>\n",
              "      <td>-1186.0</td>\n",
              "      <td>-291</td>\n",
              "      <td>NaN</td>\n",
              "      <td>1</td>\n",
              "      <td>1</td>\n",
              "      <td>0</td>\n",
              "      <td>1</td>\n",
              "      <td>1</td>\n",
              "      <td>0</td>\n",
              "      <td>Core staff</td>\n",
              "      <td>2.0</td>\n",
              "      <td>1</td>\n",
              "      <td>1</td>\n",
              "      <td>MONDAY</td>\n",
              "      <td>11</td>\n",
              "      <td>0</td>\n",
              "      <td>0</td>\n",
              "      <td>0</td>\n",
              "      <td>0</td>\n",
              "      <td>0</td>\n",
              "      <td>0</td>\n",
              "      <td>...</td>\n",
              "      <td>0.0787</td>\n",
              "      <td>0.0558</td>\n",
              "      <td>0.0039</td>\n",
              "      <td>0.01</td>\n",
              "      <td>reg oper account</td>\n",
              "      <td>block of flats</td>\n",
              "      <td>0.0714</td>\n",
              "      <td>Block</td>\n",
              "      <td>No</td>\n",
              "      <td>1.0</td>\n",
              "      <td>0.0</td>\n",
              "      <td>1.0</td>\n",
              "      <td>0.0</td>\n",
              "      <td>-828.0</td>\n",
              "      <td>0</td>\n",
              "      <td>1</td>\n",
              "      <td>0</td>\n",
              "      <td>0</td>\n",
              "      <td>0</td>\n",
              "      <td>0</td>\n",
              "      <td>0</td>\n",
              "      <td>0</td>\n",
              "      <td>0</td>\n",
              "      <td>0</td>\n",
              "      <td>0</td>\n",
              "      <td>0</td>\n",
              "      <td>0</td>\n",
              "      <td>0</td>\n",
              "      <td>0</td>\n",
              "      <td>0</td>\n",
              "      <td>0</td>\n",
              "      <td>0</td>\n",
              "      <td>0</td>\n",
              "      <td>0</td>\n",
              "      <td>0.0</td>\n",
              "      <td>0.0</td>\n",
              "      <td>0.0</td>\n",
              "      <td>0.0</td>\n",
              "      <td>0.0</td>\n",
              "      <td>0.0</td>\n",
              "    </tr>\n",
              "    <tr>\n",
              "      <th>2</th>\n",
              "      <td>100004</td>\n",
              "      <td>0</td>\n",
              "      <td>Revolving loans</td>\n",
              "      <td>M</td>\n",
              "      <td>Y</td>\n",
              "      <td>Y</td>\n",
              "      <td>0</td>\n",
              "      <td>67500.0</td>\n",
              "      <td>135000.0</td>\n",
              "      <td>6750.0</td>\n",
              "      <td>135000.0</td>\n",
              "      <td>Unaccompanied</td>\n",
              "      <td>Working</td>\n",
              "      <td>Secondary / secondary special</td>\n",
              "      <td>Single / not married</td>\n",
              "      <td>House / apartment</td>\n",
              "      <td>0.010032</td>\n",
              "      <td>-19046</td>\n",
              "      <td>-225</td>\n",
              "      <td>-4260.0</td>\n",
              "      <td>-2531</td>\n",
              "      <td>26.0</td>\n",
              "      <td>1</td>\n",
              "      <td>1</td>\n",
              "      <td>1</td>\n",
              "      <td>1</td>\n",
              "      <td>1</td>\n",
              "      <td>0</td>\n",
              "      <td>Laborers</td>\n",
              "      <td>1.0</td>\n",
              "      <td>2</td>\n",
              "      <td>2</td>\n",
              "      <td>MONDAY</td>\n",
              "      <td>9</td>\n",
              "      <td>0</td>\n",
              "      <td>0</td>\n",
              "      <td>0</td>\n",
              "      <td>0</td>\n",
              "      <td>0</td>\n",
              "      <td>0</td>\n",
              "      <td>...</td>\n",
              "      <td>NaN</td>\n",
              "      <td>NaN</td>\n",
              "      <td>NaN</td>\n",
              "      <td>NaN</td>\n",
              "      <td>NaN</td>\n",
              "      <td>NaN</td>\n",
              "      <td>NaN</td>\n",
              "      <td>NaN</td>\n",
              "      <td>NaN</td>\n",
              "      <td>0.0</td>\n",
              "      <td>0.0</td>\n",
              "      <td>0.0</td>\n",
              "      <td>0.0</td>\n",
              "      <td>-815.0</td>\n",
              "      <td>0</td>\n",
              "      <td>0</td>\n",
              "      <td>0</td>\n",
              "      <td>0</td>\n",
              "      <td>0</td>\n",
              "      <td>0</td>\n",
              "      <td>0</td>\n",
              "      <td>0</td>\n",
              "      <td>0</td>\n",
              "      <td>0</td>\n",
              "      <td>0</td>\n",
              "      <td>0</td>\n",
              "      <td>0</td>\n",
              "      <td>0</td>\n",
              "      <td>0</td>\n",
              "      <td>0</td>\n",
              "      <td>0</td>\n",
              "      <td>0</td>\n",
              "      <td>0</td>\n",
              "      <td>0</td>\n",
              "      <td>0.0</td>\n",
              "      <td>0.0</td>\n",
              "      <td>0.0</td>\n",
              "      <td>0.0</td>\n",
              "      <td>0.0</td>\n",
              "      <td>0.0</td>\n",
              "    </tr>\n",
              "    <tr>\n",
              "      <th>3</th>\n",
              "      <td>100006</td>\n",
              "      <td>0</td>\n",
              "      <td>Cash loans</td>\n",
              "      <td>F</td>\n",
              "      <td>N</td>\n",
              "      <td>Y</td>\n",
              "      <td>0</td>\n",
              "      <td>135000.0</td>\n",
              "      <td>312682.5</td>\n",
              "      <td>29686.5</td>\n",
              "      <td>297000.0</td>\n",
              "      <td>Unaccompanied</td>\n",
              "      <td>Working</td>\n",
              "      <td>Secondary / secondary special</td>\n",
              "      <td>Civil marriage</td>\n",
              "      <td>House / apartment</td>\n",
              "      <td>0.008019</td>\n",
              "      <td>-19005</td>\n",
              "      <td>-3039</td>\n",
              "      <td>-9833.0</td>\n",
              "      <td>-2437</td>\n",
              "      <td>NaN</td>\n",
              "      <td>1</td>\n",
              "      <td>1</td>\n",
              "      <td>0</td>\n",
              "      <td>1</td>\n",
              "      <td>0</td>\n",
              "      <td>0</td>\n",
              "      <td>Laborers</td>\n",
              "      <td>2.0</td>\n",
              "      <td>2</td>\n",
              "      <td>2</td>\n",
              "      <td>WEDNESDAY</td>\n",
              "      <td>17</td>\n",
              "      <td>0</td>\n",
              "      <td>0</td>\n",
              "      <td>0</td>\n",
              "      <td>0</td>\n",
              "      <td>0</td>\n",
              "      <td>0</td>\n",
              "      <td>...</td>\n",
              "      <td>NaN</td>\n",
              "      <td>NaN</td>\n",
              "      <td>NaN</td>\n",
              "      <td>NaN</td>\n",
              "      <td>NaN</td>\n",
              "      <td>NaN</td>\n",
              "      <td>NaN</td>\n",
              "      <td>NaN</td>\n",
              "      <td>NaN</td>\n",
              "      <td>2.0</td>\n",
              "      <td>0.0</td>\n",
              "      <td>2.0</td>\n",
              "      <td>0.0</td>\n",
              "      <td>-617.0</td>\n",
              "      <td>0</td>\n",
              "      <td>1</td>\n",
              "      <td>0</td>\n",
              "      <td>0</td>\n",
              "      <td>0</td>\n",
              "      <td>0</td>\n",
              "      <td>0</td>\n",
              "      <td>0</td>\n",
              "      <td>0</td>\n",
              "      <td>0</td>\n",
              "      <td>0</td>\n",
              "      <td>0</td>\n",
              "      <td>0</td>\n",
              "      <td>0</td>\n",
              "      <td>0</td>\n",
              "      <td>0</td>\n",
              "      <td>0</td>\n",
              "      <td>0</td>\n",
              "      <td>0</td>\n",
              "      <td>0</td>\n",
              "      <td>NaN</td>\n",
              "      <td>NaN</td>\n",
              "      <td>NaN</td>\n",
              "      <td>NaN</td>\n",
              "      <td>NaN</td>\n",
              "      <td>NaN</td>\n",
              "    </tr>\n",
              "    <tr>\n",
              "      <th>4</th>\n",
              "      <td>100007</td>\n",
              "      <td>0</td>\n",
              "      <td>Cash loans</td>\n",
              "      <td>M</td>\n",
              "      <td>N</td>\n",
              "      <td>Y</td>\n",
              "      <td>0</td>\n",
              "      <td>121500.0</td>\n",
              "      <td>513000.0</td>\n",
              "      <td>21865.5</td>\n",
              "      <td>513000.0</td>\n",
              "      <td>Unaccompanied</td>\n",
              "      <td>Working</td>\n",
              "      <td>Secondary / secondary special</td>\n",
              "      <td>Single / not married</td>\n",
              "      <td>House / apartment</td>\n",
              "      <td>0.028663</td>\n",
              "      <td>-19932</td>\n",
              "      <td>-3038</td>\n",
              "      <td>-4311.0</td>\n",
              "      <td>-3458</td>\n",
              "      <td>NaN</td>\n",
              "      <td>1</td>\n",
              "      <td>1</td>\n",
              "      <td>0</td>\n",
              "      <td>1</td>\n",
              "      <td>0</td>\n",
              "      <td>0</td>\n",
              "      <td>Core staff</td>\n",
              "      <td>1.0</td>\n",
              "      <td>2</td>\n",
              "      <td>2</td>\n",
              "      <td>THURSDAY</td>\n",
              "      <td>11</td>\n",
              "      <td>0</td>\n",
              "      <td>0</td>\n",
              "      <td>0</td>\n",
              "      <td>0</td>\n",
              "      <td>1</td>\n",
              "      <td>1</td>\n",
              "      <td>...</td>\n",
              "      <td>NaN</td>\n",
              "      <td>NaN</td>\n",
              "      <td>NaN</td>\n",
              "      <td>NaN</td>\n",
              "      <td>NaN</td>\n",
              "      <td>NaN</td>\n",
              "      <td>NaN</td>\n",
              "      <td>NaN</td>\n",
              "      <td>NaN</td>\n",
              "      <td>0.0</td>\n",
              "      <td>0.0</td>\n",
              "      <td>0.0</td>\n",
              "      <td>0.0</td>\n",
              "      <td>-1106.0</td>\n",
              "      <td>0</td>\n",
              "      <td>0</td>\n",
              "      <td>0</td>\n",
              "      <td>0</td>\n",
              "      <td>0</td>\n",
              "      <td>0</td>\n",
              "      <td>1</td>\n",
              "      <td>0</td>\n",
              "      <td>0</td>\n",
              "      <td>0</td>\n",
              "      <td>0</td>\n",
              "      <td>0</td>\n",
              "      <td>0</td>\n",
              "      <td>0</td>\n",
              "      <td>0</td>\n",
              "      <td>0</td>\n",
              "      <td>0</td>\n",
              "      <td>0</td>\n",
              "      <td>0</td>\n",
              "      <td>0</td>\n",
              "      <td>0.0</td>\n",
              "      <td>0.0</td>\n",
              "      <td>0.0</td>\n",
              "      <td>0.0</td>\n",
              "      <td>0.0</td>\n",
              "      <td>0.0</td>\n",
              "    </tr>\n",
              "  </tbody>\n",
              "</table>\n",
              "<p>5 rows × 122 columns</p>\n",
              "</div>"
            ],
            "text/plain": [
              "   SK_ID_CURR  TARGET  ... AMT_REQ_CREDIT_BUREAU_QRT AMT_REQ_CREDIT_BUREAU_YEAR\n",
              "0      100002       1  ...                       0.0                        1.0\n",
              "1      100003       0  ...                       0.0                        0.0\n",
              "2      100004       0  ...                       0.0                        0.0\n",
              "3      100006       0  ...                       NaN                        NaN\n",
              "4      100007       0  ...                       0.0                        0.0\n",
              "\n",
              "[5 rows x 122 columns]"
            ]
          },
          "metadata": {},
          "execution_count": 9
        }
      ]
    },
    {
      "cell_type": "code",
      "metadata": {
        "colab": {
          "base_uri": "https://localhost:8080/"
        },
        "id": "8EbCoSDARmfw",
        "outputId": "b8809f4c-f06b-4db0-a502-93bccadf33dc"
      },
      "source": [
        "len(df.columns)"
      ],
      "execution_count": null,
      "outputs": [
        {
          "output_type": "execute_result",
          "data": {
            "text/plain": [
              "122"
            ]
          },
          "metadata": {},
          "execution_count": 10
        }
      ]
    },
    {
      "cell_type": "code",
      "metadata": {
        "colab": {
          "base_uri": "https://localhost:8080/"
        },
        "id": "-G3Erodq-Z2M",
        "outputId": "05ecf85e-1632-45d5-e693-bf5c7b1ab9a4"
      },
      "source": [
        "df.dtypes"
      ],
      "execution_count": null,
      "outputs": [
        {
          "output_type": "execute_result",
          "data": {
            "text/plain": [
              "SK_ID_CURR                      int64\n",
              "TARGET                          int64\n",
              "NAME_CONTRACT_TYPE             object\n",
              "CODE_GENDER                    object\n",
              "FLAG_OWN_CAR                   object\n",
              "                               ...   \n",
              "AMT_REQ_CREDIT_BUREAU_DAY     float64\n",
              "AMT_REQ_CREDIT_BUREAU_WEEK    float64\n",
              "AMT_REQ_CREDIT_BUREAU_MON     float64\n",
              "AMT_REQ_CREDIT_BUREAU_QRT     float64\n",
              "AMT_REQ_CREDIT_BUREAU_YEAR    float64\n",
              "Length: 122, dtype: object"
            ]
          },
          "metadata": {},
          "execution_count": 11
        }
      ]
    },
    {
      "cell_type": "markdown",
      "metadata": {
        "id": "ojKiQs3SYval"
      },
      "source": [
        "### Drop Values"
      ]
    },
    {
      "cell_type": "code",
      "metadata": {
        "id": "mQkZTALhYx_O",
        "colab": {
          "base_uri": "https://localhost:8080/",
          "height": 309
        },
        "outputId": "63c4caa9-5dff-45fa-cce6-c9c7190b6ba5"
      },
      "source": [
        "#estos son los valores que eliminare por que solo quiero trabajar con unatase de 28 columnas que creo que son las mas importantes\n",
        "df_clean = df.copy()\n",
        "df_clean = df_clean[df_clean.columns[1:29]]\n",
        "print(df_clean.shape)\n",
        "df_clean.head()"
      ],
      "execution_count": null,
      "outputs": [
        {
          "output_type": "stream",
          "name": "stdout",
          "text": [
            "(307511, 28)\n"
          ]
        },
        {
          "output_type": "execute_result",
          "data": {
            "text/html": [
              "<div>\n",
              "<style scoped>\n",
              "    .dataframe tbody tr th:only-of-type {\n",
              "        vertical-align: middle;\n",
              "    }\n",
              "\n",
              "    .dataframe tbody tr th {\n",
              "        vertical-align: top;\n",
              "    }\n",
              "\n",
              "    .dataframe thead th {\n",
              "        text-align: right;\n",
              "    }\n",
              "</style>\n",
              "<table border=\"1\" class=\"dataframe\">\n",
              "  <thead>\n",
              "    <tr style=\"text-align: right;\">\n",
              "      <th></th>\n",
              "      <th>TARGET</th>\n",
              "      <th>NAME_CONTRACT_TYPE</th>\n",
              "      <th>CODE_GENDER</th>\n",
              "      <th>FLAG_OWN_CAR</th>\n",
              "      <th>FLAG_OWN_REALTY</th>\n",
              "      <th>CNT_CHILDREN</th>\n",
              "      <th>AMT_INCOME_TOTAL</th>\n",
              "      <th>AMT_CREDIT</th>\n",
              "      <th>AMT_ANNUITY</th>\n",
              "      <th>AMT_GOODS_PRICE</th>\n",
              "      <th>NAME_TYPE_SUITE</th>\n",
              "      <th>NAME_INCOME_TYPE</th>\n",
              "      <th>NAME_EDUCATION_TYPE</th>\n",
              "      <th>NAME_FAMILY_STATUS</th>\n",
              "      <th>NAME_HOUSING_TYPE</th>\n",
              "      <th>REGION_POPULATION_RELATIVE</th>\n",
              "      <th>DAYS_BIRTH</th>\n",
              "      <th>DAYS_EMPLOYED</th>\n",
              "      <th>DAYS_REGISTRATION</th>\n",
              "      <th>DAYS_ID_PUBLISH</th>\n",
              "      <th>OWN_CAR_AGE</th>\n",
              "      <th>FLAG_MOBIL</th>\n",
              "      <th>FLAG_EMP_PHONE</th>\n",
              "      <th>FLAG_WORK_PHONE</th>\n",
              "      <th>FLAG_CONT_MOBILE</th>\n",
              "      <th>FLAG_PHONE</th>\n",
              "      <th>FLAG_EMAIL</th>\n",
              "      <th>OCCUPATION_TYPE</th>\n",
              "    </tr>\n",
              "  </thead>\n",
              "  <tbody>\n",
              "    <tr>\n",
              "      <th>0</th>\n",
              "      <td>1</td>\n",
              "      <td>Cash loans</td>\n",
              "      <td>M</td>\n",
              "      <td>N</td>\n",
              "      <td>Y</td>\n",
              "      <td>0</td>\n",
              "      <td>202500.0</td>\n",
              "      <td>406597.5</td>\n",
              "      <td>24700.5</td>\n",
              "      <td>351000.0</td>\n",
              "      <td>Unaccompanied</td>\n",
              "      <td>Working</td>\n",
              "      <td>Secondary / secondary special</td>\n",
              "      <td>Single / not married</td>\n",
              "      <td>House / apartment</td>\n",
              "      <td>0.018801</td>\n",
              "      <td>-9461</td>\n",
              "      <td>-637</td>\n",
              "      <td>-3648.0</td>\n",
              "      <td>-2120</td>\n",
              "      <td>NaN</td>\n",
              "      <td>1</td>\n",
              "      <td>1</td>\n",
              "      <td>0</td>\n",
              "      <td>1</td>\n",
              "      <td>1</td>\n",
              "      <td>0</td>\n",
              "      <td>Laborers</td>\n",
              "    </tr>\n",
              "    <tr>\n",
              "      <th>1</th>\n",
              "      <td>0</td>\n",
              "      <td>Cash loans</td>\n",
              "      <td>F</td>\n",
              "      <td>N</td>\n",
              "      <td>N</td>\n",
              "      <td>0</td>\n",
              "      <td>270000.0</td>\n",
              "      <td>1293502.5</td>\n",
              "      <td>35698.5</td>\n",
              "      <td>1129500.0</td>\n",
              "      <td>Family</td>\n",
              "      <td>State servant</td>\n",
              "      <td>Higher education</td>\n",
              "      <td>Married</td>\n",
              "      <td>House / apartment</td>\n",
              "      <td>0.003541</td>\n",
              "      <td>-16765</td>\n",
              "      <td>-1188</td>\n",
              "      <td>-1186.0</td>\n",
              "      <td>-291</td>\n",
              "      <td>NaN</td>\n",
              "      <td>1</td>\n",
              "      <td>1</td>\n",
              "      <td>0</td>\n",
              "      <td>1</td>\n",
              "      <td>1</td>\n",
              "      <td>0</td>\n",
              "      <td>Core staff</td>\n",
              "    </tr>\n",
              "    <tr>\n",
              "      <th>2</th>\n",
              "      <td>0</td>\n",
              "      <td>Revolving loans</td>\n",
              "      <td>M</td>\n",
              "      <td>Y</td>\n",
              "      <td>Y</td>\n",
              "      <td>0</td>\n",
              "      <td>67500.0</td>\n",
              "      <td>135000.0</td>\n",
              "      <td>6750.0</td>\n",
              "      <td>135000.0</td>\n",
              "      <td>Unaccompanied</td>\n",
              "      <td>Working</td>\n",
              "      <td>Secondary / secondary special</td>\n",
              "      <td>Single / not married</td>\n",
              "      <td>House / apartment</td>\n",
              "      <td>0.010032</td>\n",
              "      <td>-19046</td>\n",
              "      <td>-225</td>\n",
              "      <td>-4260.0</td>\n",
              "      <td>-2531</td>\n",
              "      <td>26.0</td>\n",
              "      <td>1</td>\n",
              "      <td>1</td>\n",
              "      <td>1</td>\n",
              "      <td>1</td>\n",
              "      <td>1</td>\n",
              "      <td>0</td>\n",
              "      <td>Laborers</td>\n",
              "    </tr>\n",
              "    <tr>\n",
              "      <th>3</th>\n",
              "      <td>0</td>\n",
              "      <td>Cash loans</td>\n",
              "      <td>F</td>\n",
              "      <td>N</td>\n",
              "      <td>Y</td>\n",
              "      <td>0</td>\n",
              "      <td>135000.0</td>\n",
              "      <td>312682.5</td>\n",
              "      <td>29686.5</td>\n",
              "      <td>297000.0</td>\n",
              "      <td>Unaccompanied</td>\n",
              "      <td>Working</td>\n",
              "      <td>Secondary / secondary special</td>\n",
              "      <td>Civil marriage</td>\n",
              "      <td>House / apartment</td>\n",
              "      <td>0.008019</td>\n",
              "      <td>-19005</td>\n",
              "      <td>-3039</td>\n",
              "      <td>-9833.0</td>\n",
              "      <td>-2437</td>\n",
              "      <td>NaN</td>\n",
              "      <td>1</td>\n",
              "      <td>1</td>\n",
              "      <td>0</td>\n",
              "      <td>1</td>\n",
              "      <td>0</td>\n",
              "      <td>0</td>\n",
              "      <td>Laborers</td>\n",
              "    </tr>\n",
              "    <tr>\n",
              "      <th>4</th>\n",
              "      <td>0</td>\n",
              "      <td>Cash loans</td>\n",
              "      <td>M</td>\n",
              "      <td>N</td>\n",
              "      <td>Y</td>\n",
              "      <td>0</td>\n",
              "      <td>121500.0</td>\n",
              "      <td>513000.0</td>\n",
              "      <td>21865.5</td>\n",
              "      <td>513000.0</td>\n",
              "      <td>Unaccompanied</td>\n",
              "      <td>Working</td>\n",
              "      <td>Secondary / secondary special</td>\n",
              "      <td>Single / not married</td>\n",
              "      <td>House / apartment</td>\n",
              "      <td>0.028663</td>\n",
              "      <td>-19932</td>\n",
              "      <td>-3038</td>\n",
              "      <td>-4311.0</td>\n",
              "      <td>-3458</td>\n",
              "      <td>NaN</td>\n",
              "      <td>1</td>\n",
              "      <td>1</td>\n",
              "      <td>0</td>\n",
              "      <td>1</td>\n",
              "      <td>0</td>\n",
              "      <td>0</td>\n",
              "      <td>Core staff</td>\n",
              "    </tr>\n",
              "  </tbody>\n",
              "</table>\n",
              "</div>"
            ],
            "text/plain": [
              "   TARGET NAME_CONTRACT_TYPE  ... FLAG_EMAIL OCCUPATION_TYPE\n",
              "0       1         Cash loans  ...          0        Laborers\n",
              "1       0         Cash loans  ...          0      Core staff\n",
              "2       0    Revolving loans  ...          0        Laborers\n",
              "3       0         Cash loans  ...          0        Laborers\n",
              "4       0         Cash loans  ...          0      Core staff\n",
              "\n",
              "[5 rows x 28 columns]"
            ]
          },
          "metadata": {},
          "execution_count": 12
        }
      ]
    },
    {
      "cell_type": "code",
      "metadata": {
        "colab": {
          "base_uri": "https://localhost:8080/",
          "height": 292
        },
        "id": "qsxirzNKr61c",
        "outputId": "b877b9e0-d3e2-499f-8151-d8ef76485b28"
      },
      "source": [
        "df_clean = df_clean.drop(columns =[\"FLAG_OWN_REALTY\", \"NAME_TYPE_SUITE\",\"REGION_POPULATION_RELATIVE\",\"FLAG_MOBIL\",\"FLAG_EMP_PHONE\", \"FLAG_WORK_PHONE\",\"FLAG_CONT_MOBILE\",\"FLAG_PHONE\", \"FLAG_EMAIL\", \"OWN_CAR_AGE\"],axis = 1)\n",
        "df_clean.head()"
      ],
      "execution_count": null,
      "outputs": [
        {
          "output_type": "execute_result",
          "data": {
            "text/html": [
              "<div>\n",
              "<style scoped>\n",
              "    .dataframe tbody tr th:only-of-type {\n",
              "        vertical-align: middle;\n",
              "    }\n",
              "\n",
              "    .dataframe tbody tr th {\n",
              "        vertical-align: top;\n",
              "    }\n",
              "\n",
              "    .dataframe thead th {\n",
              "        text-align: right;\n",
              "    }\n",
              "</style>\n",
              "<table border=\"1\" class=\"dataframe\">\n",
              "  <thead>\n",
              "    <tr style=\"text-align: right;\">\n",
              "      <th></th>\n",
              "      <th>TARGET</th>\n",
              "      <th>NAME_CONTRACT_TYPE</th>\n",
              "      <th>CODE_GENDER</th>\n",
              "      <th>FLAG_OWN_CAR</th>\n",
              "      <th>CNT_CHILDREN</th>\n",
              "      <th>AMT_INCOME_TOTAL</th>\n",
              "      <th>AMT_CREDIT</th>\n",
              "      <th>AMT_ANNUITY</th>\n",
              "      <th>AMT_GOODS_PRICE</th>\n",
              "      <th>NAME_INCOME_TYPE</th>\n",
              "      <th>NAME_EDUCATION_TYPE</th>\n",
              "      <th>NAME_FAMILY_STATUS</th>\n",
              "      <th>NAME_HOUSING_TYPE</th>\n",
              "      <th>DAYS_BIRTH</th>\n",
              "      <th>DAYS_EMPLOYED</th>\n",
              "      <th>DAYS_REGISTRATION</th>\n",
              "      <th>DAYS_ID_PUBLISH</th>\n",
              "      <th>OCCUPATION_TYPE</th>\n",
              "    </tr>\n",
              "  </thead>\n",
              "  <tbody>\n",
              "    <tr>\n",
              "      <th>0</th>\n",
              "      <td>1</td>\n",
              "      <td>Cash loans</td>\n",
              "      <td>M</td>\n",
              "      <td>N</td>\n",
              "      <td>0</td>\n",
              "      <td>202500.0</td>\n",
              "      <td>406597.5</td>\n",
              "      <td>24700.5</td>\n",
              "      <td>351000.0</td>\n",
              "      <td>Working</td>\n",
              "      <td>Secondary / secondary special</td>\n",
              "      <td>Single / not married</td>\n",
              "      <td>House / apartment</td>\n",
              "      <td>-9461</td>\n",
              "      <td>-637</td>\n",
              "      <td>-3648.0</td>\n",
              "      <td>-2120</td>\n",
              "      <td>Laborers</td>\n",
              "    </tr>\n",
              "    <tr>\n",
              "      <th>1</th>\n",
              "      <td>0</td>\n",
              "      <td>Cash loans</td>\n",
              "      <td>F</td>\n",
              "      <td>N</td>\n",
              "      <td>0</td>\n",
              "      <td>270000.0</td>\n",
              "      <td>1293502.5</td>\n",
              "      <td>35698.5</td>\n",
              "      <td>1129500.0</td>\n",
              "      <td>State servant</td>\n",
              "      <td>Higher education</td>\n",
              "      <td>Married</td>\n",
              "      <td>House / apartment</td>\n",
              "      <td>-16765</td>\n",
              "      <td>-1188</td>\n",
              "      <td>-1186.0</td>\n",
              "      <td>-291</td>\n",
              "      <td>Core staff</td>\n",
              "    </tr>\n",
              "    <tr>\n",
              "      <th>2</th>\n",
              "      <td>0</td>\n",
              "      <td>Revolving loans</td>\n",
              "      <td>M</td>\n",
              "      <td>Y</td>\n",
              "      <td>0</td>\n",
              "      <td>67500.0</td>\n",
              "      <td>135000.0</td>\n",
              "      <td>6750.0</td>\n",
              "      <td>135000.0</td>\n",
              "      <td>Working</td>\n",
              "      <td>Secondary / secondary special</td>\n",
              "      <td>Single / not married</td>\n",
              "      <td>House / apartment</td>\n",
              "      <td>-19046</td>\n",
              "      <td>-225</td>\n",
              "      <td>-4260.0</td>\n",
              "      <td>-2531</td>\n",
              "      <td>Laborers</td>\n",
              "    </tr>\n",
              "    <tr>\n",
              "      <th>3</th>\n",
              "      <td>0</td>\n",
              "      <td>Cash loans</td>\n",
              "      <td>F</td>\n",
              "      <td>N</td>\n",
              "      <td>0</td>\n",
              "      <td>135000.0</td>\n",
              "      <td>312682.5</td>\n",
              "      <td>29686.5</td>\n",
              "      <td>297000.0</td>\n",
              "      <td>Working</td>\n",
              "      <td>Secondary / secondary special</td>\n",
              "      <td>Civil marriage</td>\n",
              "      <td>House / apartment</td>\n",
              "      <td>-19005</td>\n",
              "      <td>-3039</td>\n",
              "      <td>-9833.0</td>\n",
              "      <td>-2437</td>\n",
              "      <td>Laborers</td>\n",
              "    </tr>\n",
              "    <tr>\n",
              "      <th>4</th>\n",
              "      <td>0</td>\n",
              "      <td>Cash loans</td>\n",
              "      <td>M</td>\n",
              "      <td>N</td>\n",
              "      <td>0</td>\n",
              "      <td>121500.0</td>\n",
              "      <td>513000.0</td>\n",
              "      <td>21865.5</td>\n",
              "      <td>513000.0</td>\n",
              "      <td>Working</td>\n",
              "      <td>Secondary / secondary special</td>\n",
              "      <td>Single / not married</td>\n",
              "      <td>House / apartment</td>\n",
              "      <td>-19932</td>\n",
              "      <td>-3038</td>\n",
              "      <td>-4311.0</td>\n",
              "      <td>-3458</td>\n",
              "      <td>Core staff</td>\n",
              "    </tr>\n",
              "  </tbody>\n",
              "</table>\n",
              "</div>"
            ],
            "text/plain": [
              "   TARGET NAME_CONTRACT_TYPE  ... DAYS_ID_PUBLISH OCCUPATION_TYPE\n",
              "0       1         Cash loans  ...           -2120        Laborers\n",
              "1       0         Cash loans  ...            -291      Core staff\n",
              "2       0    Revolving loans  ...           -2531        Laborers\n",
              "3       0         Cash loans  ...           -2437        Laborers\n",
              "4       0         Cash loans  ...           -3458      Core staff\n",
              "\n",
              "[5 rows x 18 columns]"
            ]
          },
          "metadata": {},
          "execution_count": 13
        }
      ]
    },
    {
      "cell_type": "markdown",
      "metadata": {
        "id": "cx4OLwc-vXXx"
      },
      "source": [
        "Tenemos que obtener el numero de valores nulos para ver que hacemos con ellos"
      ]
    },
    {
      "cell_type": "code",
      "metadata": {
        "colab": {
          "base_uri": "https://localhost:8080/"
        },
        "id": "OU2MZ2eqvcfL",
        "outputId": "731cc783-c9ca-4c44-8d52-59eb1011948d"
      },
      "source": [
        "#esta es la suma de valores nulos\n",
        "df_clean.isnull().sum()"
      ],
      "execution_count": null,
      "outputs": [
        {
          "output_type": "execute_result",
          "data": {
            "text/plain": [
              "TARGET                     0\n",
              "NAME_CONTRACT_TYPE         0\n",
              "CODE_GENDER                0\n",
              "FLAG_OWN_CAR               0\n",
              "CNT_CHILDREN               0\n",
              "AMT_INCOME_TOTAL           0\n",
              "AMT_CREDIT                 0\n",
              "AMT_ANNUITY               12\n",
              "AMT_GOODS_PRICE          278\n",
              "NAME_INCOME_TYPE           0\n",
              "NAME_EDUCATION_TYPE        0\n",
              "NAME_FAMILY_STATUS         0\n",
              "NAME_HOUSING_TYPE          0\n",
              "DAYS_BIRTH                 0\n",
              "DAYS_EMPLOYED              0\n",
              "DAYS_REGISTRATION          0\n",
              "DAYS_ID_PUBLISH            0\n",
              "OCCUPATION_TYPE        96391\n",
              "dtype: int64"
            ]
          },
          "metadata": {},
          "execution_count": 14
        }
      ]
    },
    {
      "cell_type": "code",
      "metadata": {
        "colab": {
          "base_uri": "https://localhost:8080/"
        },
        "id": "ObJscjERwirC",
        "outputId": "25dd4502-c86b-4bf7-a84c-a2ae5a273834"
      },
      "source": [
        "#esta es la lista de tipos de dato que tienen las columnas\n",
        "df_clean.dtypes"
      ],
      "execution_count": null,
      "outputs": [
        {
          "output_type": "execute_result",
          "data": {
            "text/plain": [
              "TARGET                   int64\n",
              "NAME_CONTRACT_TYPE      object\n",
              "CODE_GENDER             object\n",
              "FLAG_OWN_CAR            object\n",
              "CNT_CHILDREN             int64\n",
              "AMT_INCOME_TOTAL       float64\n",
              "AMT_CREDIT             float64\n",
              "AMT_ANNUITY            float64\n",
              "AMT_GOODS_PRICE        float64\n",
              "NAME_INCOME_TYPE        object\n",
              "NAME_EDUCATION_TYPE     object\n",
              "NAME_FAMILY_STATUS      object\n",
              "NAME_HOUSING_TYPE       object\n",
              "DAYS_BIRTH               int64\n",
              "DAYS_EMPLOYED            int64\n",
              "DAYS_REGISTRATION      float64\n",
              "DAYS_ID_PUBLISH          int64\n",
              "OCCUPATION_TYPE         object\n",
              "dtype: object"
            ]
          },
          "metadata": {},
          "execution_count": 15
        }
      ]
    },
    {
      "cell_type": "code",
      "metadata": {
        "id": "sTjsHvfuxSh6"
      },
      "source": [
        "#todas las columnas que tienen valores nulos los llenaremos con nan values.\n",
        "df_clean['OCCUPATION_TYPE'].fillna(\"No ocupation\", inplace = True)"
      ],
      "execution_count": null,
      "outputs": []
    },
    {
      "cell_type": "code",
      "metadata": {
        "id": "1166Wl4b6oOY"
      },
      "source": [
        "# los demas precios los llenaremos de el promdeio de las columnas \n",
        "mean_annuity= df_clean.AMT_ANNUITY.mean()\n",
        "mean_goods= df_clean.AMT_GOODS_PRICE.mean()\n",
        "df_clean.AMT_ANNUITY.fillna(mean_annuity, inplace=True)\n",
        "df_clean.AMT_GOODS_PRICE.fillna(mean_goods, inplace = True)"
      ],
      "execution_count": null,
      "outputs": []
    },
    {
      "cell_type": "markdown",
      "metadata": {
        "id": "x5tiU3RnmLue"
      },
      "source": [
        "### Ahora convertiremos las variables de tiempo"
      ]
    },
    {
      "cell_type": "markdown",
      "metadata": {
        "id": "f8JZG8mpn_y-"
      },
      "source": [
        "Trabajaremos con las columans DAYS_BIRTH, DAYS_EMPLOYED, DAYS_REGISTRATION Y DAYS_ID_PUBLISH, lo que heremos sera dividir entre 365 dias para obtener el numero de años "
      ]
    },
    {
      "cell_type": "code",
      "metadata": {
        "colab": {
          "base_uri": "https://localhost:8080/"
        },
        "id": "CphlMxq-mQFW",
        "outputId": "43c12b76-99a8-476e-fa14-503528c25de8"
      },
      "source": [
        "df_clean.head()"
      ],
      "execution_count": null,
      "outputs": [
        {
          "output_type": "execute_result",
          "data": {
            "text/html": [
              "<div>\n",
              "<style scoped>\n",
              "    .dataframe tbody tr th:only-of-type {\n",
              "        vertical-align: middle;\n",
              "    }\n",
              "\n",
              "    .dataframe tbody tr th {\n",
              "        vertical-align: top;\n",
              "    }\n",
              "\n",
              "    .dataframe thead th {\n",
              "        text-align: right;\n",
              "    }\n",
              "</style>\n",
              "<table border=\"1\" class=\"dataframe\">\n",
              "  <thead>\n",
              "    <tr style=\"text-align: right;\">\n",
              "      <th></th>\n",
              "      <th>TARGET</th>\n",
              "      <th>NAME_CONTRACT_TYPE</th>\n",
              "      <th>CODE_GENDER</th>\n",
              "      <th>FLAG_OWN_CAR</th>\n",
              "      <th>CNT_CHILDREN</th>\n",
              "      <th>AMT_INCOME_TOTAL</th>\n",
              "      <th>AMT_CREDIT</th>\n",
              "      <th>AMT_ANNUITY</th>\n",
              "      <th>AMT_GOODS_PRICE</th>\n",
              "      <th>NAME_INCOME_TYPE</th>\n",
              "      <th>NAME_EDUCATION_TYPE</th>\n",
              "      <th>NAME_FAMILY_STATUS</th>\n",
              "      <th>NAME_HOUSING_TYPE</th>\n",
              "      <th>DAYS_BIRTH</th>\n",
              "      <th>DAYS_EMPLOYED</th>\n",
              "      <th>DAYS_REGISTRATION</th>\n",
              "      <th>DAYS_ID_PUBLISH</th>\n",
              "      <th>OCCUPATION_TYPE</th>\n",
              "    </tr>\n",
              "  </thead>\n",
              "  <tbody>\n",
              "    <tr>\n",
              "      <th>0</th>\n",
              "      <td>1</td>\n",
              "      <td>Cash loans</td>\n",
              "      <td>M</td>\n",
              "      <td>N</td>\n",
              "      <td>0</td>\n",
              "      <td>202500.0</td>\n",
              "      <td>406597.5</td>\n",
              "      <td>24700.5</td>\n",
              "      <td>351000.0</td>\n",
              "      <td>Working</td>\n",
              "      <td>Secondary / secondary special</td>\n",
              "      <td>Single / not married</td>\n",
              "      <td>House / apartment</td>\n",
              "      <td>-9461</td>\n",
              "      <td>-637</td>\n",
              "      <td>-3648.0</td>\n",
              "      <td>-2120</td>\n",
              "      <td>Laborers</td>\n",
              "    </tr>\n",
              "    <tr>\n",
              "      <th>1</th>\n",
              "      <td>0</td>\n",
              "      <td>Cash loans</td>\n",
              "      <td>F</td>\n",
              "      <td>N</td>\n",
              "      <td>0</td>\n",
              "      <td>270000.0</td>\n",
              "      <td>1293502.5</td>\n",
              "      <td>35698.5</td>\n",
              "      <td>1129500.0</td>\n",
              "      <td>State servant</td>\n",
              "      <td>Higher education</td>\n",
              "      <td>Married</td>\n",
              "      <td>House / apartment</td>\n",
              "      <td>-16765</td>\n",
              "      <td>-1188</td>\n",
              "      <td>-1186.0</td>\n",
              "      <td>-291</td>\n",
              "      <td>Core staff</td>\n",
              "    </tr>\n",
              "    <tr>\n",
              "      <th>2</th>\n",
              "      <td>0</td>\n",
              "      <td>Revolving loans</td>\n",
              "      <td>M</td>\n",
              "      <td>Y</td>\n",
              "      <td>0</td>\n",
              "      <td>67500.0</td>\n",
              "      <td>135000.0</td>\n",
              "      <td>6750.0</td>\n",
              "      <td>135000.0</td>\n",
              "      <td>Working</td>\n",
              "      <td>Secondary / secondary special</td>\n",
              "      <td>Single / not married</td>\n",
              "      <td>House / apartment</td>\n",
              "      <td>-19046</td>\n",
              "      <td>-225</td>\n",
              "      <td>-4260.0</td>\n",
              "      <td>-2531</td>\n",
              "      <td>Laborers</td>\n",
              "    </tr>\n",
              "    <tr>\n",
              "      <th>3</th>\n",
              "      <td>0</td>\n",
              "      <td>Cash loans</td>\n",
              "      <td>F</td>\n",
              "      <td>N</td>\n",
              "      <td>0</td>\n",
              "      <td>135000.0</td>\n",
              "      <td>312682.5</td>\n",
              "      <td>29686.5</td>\n",
              "      <td>297000.0</td>\n",
              "      <td>Working</td>\n",
              "      <td>Secondary / secondary special</td>\n",
              "      <td>Civil marriage</td>\n",
              "      <td>House / apartment</td>\n",
              "      <td>-19005</td>\n",
              "      <td>-3039</td>\n",
              "      <td>-9833.0</td>\n",
              "      <td>-2437</td>\n",
              "      <td>Laborers</td>\n",
              "    </tr>\n",
              "    <tr>\n",
              "      <th>4</th>\n",
              "      <td>0</td>\n",
              "      <td>Cash loans</td>\n",
              "      <td>M</td>\n",
              "      <td>N</td>\n",
              "      <td>0</td>\n",
              "      <td>121500.0</td>\n",
              "      <td>513000.0</td>\n",
              "      <td>21865.5</td>\n",
              "      <td>513000.0</td>\n",
              "      <td>Working</td>\n",
              "      <td>Secondary / secondary special</td>\n",
              "      <td>Single / not married</td>\n",
              "      <td>House / apartment</td>\n",
              "      <td>-19932</td>\n",
              "      <td>-3038</td>\n",
              "      <td>-4311.0</td>\n",
              "      <td>-3458</td>\n",
              "      <td>Core staff</td>\n",
              "    </tr>\n",
              "  </tbody>\n",
              "</table>\n",
              "</div>"
            ],
            "text/plain": [
              "   TARGET NAME_CONTRACT_TYPE  ... DAYS_ID_PUBLISH OCCUPATION_TYPE\n",
              "0       1         Cash loans  ...           -2120        Laborers\n",
              "1       0         Cash loans  ...            -291      Core staff\n",
              "2       0    Revolving loans  ...           -2531        Laborers\n",
              "3       0         Cash loans  ...           -2437        Laborers\n",
              "4       0         Cash loans  ...           -3458      Core staff\n",
              "\n",
              "[5 rows x 18 columns]"
            ]
          },
          "metadata": {},
          "execution_count": 18
        }
      ]
    },
    {
      "cell_type": "code",
      "metadata": {
        "id": "TG2YjsH1mQIL"
      },
      "source": [
        "df_clean[\"YEARS_BIRTH\"] = abs(df_clean.DAYS_BIRTH/365).astype(int)\n",
        "df_clean[\"YEAR_EMPLOYED\"] = abs(df_clean.DAYS_EMPLOYED/365).astype(int)\n",
        "df_clean[\"YEARS_REGISTRATION\"] = abs(df_clean.DAYS_REGISTRATION/365).astype(int)\n",
        "df_clean[\"YEARS_ID_PUBLISH\"] = abs(df_clean.DAYS_ID_PUBLISH/365).astype(int)\n",
        "\n",
        "df_clean.drop(columns=[\"DAYS_BIRTH\",\"DAYS_EMPLOYED\",\"DAYS_REGISTRATION\",\"DAYS_ID_PUBLISH\"], axis=1, inplace=True)"
      ],
      "execution_count": null,
      "outputs": []
    },
    {
      "cell_type": "code",
      "metadata": {
        "colab": {
          "base_uri": "https://localhost:8080/"
        },
        "id": "U59WO22zmQKC",
        "outputId": "efff462b-a2b7-4bde-e7e9-d2b5479d0953"
      },
      "source": [
        "#el top 5 de edades de personas que piden prestamos entantre los 36 a 40\n",
        "df_clean[\"YEARS_BIRTH\"].value_counts()[:5].plot(kind = \"barh\")"
      ],
      "execution_count": null,
      "outputs": [
        {
          "output_type": "execute_result",
          "data": {
            "text/plain": [
              "<matplotlib.axes._subplots.AxesSubplot at 0x7fe137cd8990>"
            ]
          },
          "metadata": {},
          "execution_count": 20
        },
        {
          "output_type": "display_data",
          "data": {
            "image/png": "[encoded data removed]",
            "text/plain": [
              "<Figure size 432x288 with 1 Axes>"
            ]
          },
          "metadata": {
            "needs_background": "light"
          }
        }
      ]
    },
    {
      "cell_type": "markdown",
      "metadata": {
        "id": "KBka3JA88eE4"
      },
      "source": [
        "### EDA\n",
        "\n",
        "una vez que tenemos todos los datos acomodados hacemos un analisis exploratorio de los datos"
      ]
    },
    {
      "cell_type": "code",
      "metadata": {
        "id": "-j-JEjnO37As"
      },
      "source": [
        "comenzamos a ver el tamaño de etiquetas que tenemos por cada caso"
      ],
      "execution_count": null,
      "outputs": []
    },
    {
      "cell_type": "code",
      "metadata": {
        "colab": {
          "base_uri": "https://localhost:8080/"
        },
        "id": "J20A5_u04Rhk",
        "outputId": "97ddcc85-4ace-4c92-98b4-aad5128fc1d1"
      },
      "source": [
        "df_clean.TARGET.value_counts()"
      ],
      "execution_count": null,
      "outputs": [
        {
          "output_type": "execute_result",
          "data": {
            "text/plain": [
              "0.0    282686\n",
              "1.0     24825\n",
              "Name: TARGET, dtype: int64"
            ]
          },
          "metadata": {},
          "execution_count": 131
        }
      ]
    },
    {
      "cell_type": "code",
      "metadata": {
        "colab": {
          "base_uri": "https://localhost:8080/",
          "height": 279
        },
        "id": "LVKUkomC4AWT",
        "outputId": "6188dcac-a603-4952-9c09-37ac98a3b6cc"
      },
      "source": [
        "#vemos que el dataset esta muy desvalanceado tenemos demasiados prtesamos que no fueron acepatdos que estan representados con un 0\n",
        "# y muy pocos con creditos aceptados \n",
        "import seaborn as sns\n",
        "\n",
        "ax = sns.countplot(x =\"TARGET\", data=df_clean)"
      ],
      "execution_count": null,
      "outputs": [
        {
          "output_type": "display_data",
          "data": {
            "image/png": "[encoded data removed]",
            "text/plain": [
              "<Figure size 432x288 with 1 Axes>"
            ]
          },
          "metadata": {
            "needs_background": "light"
          }
        }
      ]
    },
    {
      "cell_type": "markdown",
      "metadata": {
        "id": "1Ka8KavwbX9p"
      },
      "source": [
        "Aqui nos damos cuenta que el genero que mas pide prestamos es femenino "
      ]
    },
    {
      "cell_type": "code",
      "metadata": {
        "colab": {
          "base_uri": "https://localhost:8080/",
          "height": 280
        },
        "id": "VOXAd-JN86Sq",
        "outputId": "20a869f0-b601-4608-dffd-557cc0819c77"
      },
      "source": [
        "import seaborn as sns\n",
        "\n",
        "ax = sns.countplot(x =\"CODE_GENDER\", data=df_clean)"
      ],
      "execution_count": null,
      "outputs": [
        {
          "output_type": "display_data",
          "data": {
            "image/png": "[encoded data removed]",
            "text/plain": [
              "<Figure size 432x288 with 1 Axes>"
            ]
          },
          "metadata": {
            "needs_background": "light"
          }
        }
      ]
    },
    {
      "cell_type": "code",
      "metadata": {
        "id": "VQdqjVs89jA2"
      },
      "source": [
        "#aqui cambiamos de XNA  a other type of gender, \n",
        "df_clean.CODE_GENDER.replace(\"XNA\", \"other\", inplace=True)"
      ],
      "execution_count": null,
      "outputs": []
    },
    {
      "cell_type": "markdown",
      "metadata": {
        "id": "YfU7uj7p6Pln"
      },
      "source": [
        "Ahora checaremos la tabla de numero de niños"
      ]
    },
    {
      "cell_type": "code",
      "metadata": {
        "colab": {
          "base_uri": "https://localhost:8080/"
        },
        "id": "I0jTin0t5cMw",
        "outputId": "de716785-d59d-4e6c-d073-ab08ad33d97c"
      },
      "source": [
        "# de las cosas que mas me llama la atencion es el numero de niños que hay, aqui vemos un claro ejemplo de  outliers\n",
        "df_clean.CNT_CHILDREN.value_counts().sort_values(ascending=False)"
      ],
      "execution_count": null,
      "outputs": [
        {
          "output_type": "execute_result",
          "data": {
            "text/plain": [
              "0.0     215371\n",
              "1.0      61119\n",
              "2.0      26749\n",
              "3.0       3717\n",
              "4.0        429\n",
              "5.0         84\n",
              "6.0         21\n",
              "7.0          7\n",
              "14.0         3\n",
              "9.0          2\n",
              "19.0         2\n",
              "8.0          2\n",
              "10.0         2\n",
              "12.0         2\n",
              "11.0         1\n",
              "Name: CNT_CHILDREN, dtype: int64"
            ]
          },
          "metadata": {},
          "execution_count": 139
        }
      ]
    },
    {
      "cell_type": "code",
      "metadata": {
        "id": "Hg0NmhZs8ZPO"
      },
      "source": [
        "#Aqui vemos que las personas que se equivocaron son \n",
        "gk = df_clean.groupby([\"CODE_GENDER\", \"CNT_CHILDREN\"])\n",
        "#gk.first()"
      ],
      "execution_count": null,
      "outputs": []
    },
    {
      "cell_type": "code",
      "metadata": {
        "colab": {
          "base_uri": "https://localhost:8080/",
          "height": 312
        },
        "id": "BTzutsDg7EwJ",
        "outputId": "05f5d2ac-ea07-4944-e063-17901b2011a6"
      },
      "source": [
        "#como vemos hay una granc cantidas de outlier\n",
        "sns.boxplot(y=df_clean[\"CNT_CHILDREN\"],data=df_clean,x=df_clean['TARGET'])\n",
        "plt.title(\"Outliers\")\n",
        "plt.ylabel(\"numero de hinos\")"
      ],
      "execution_count": null,
      "outputs": [
        {
          "output_type": "execute_result",
          "data": {
            "text/plain": [
              "Text(0, 0.5, 'CNT_CHILDRE')"
            ]
          },
          "metadata": {},
          "execution_count": 150
        },
        {
          "output_type": "display_data",
          "data": {
            "image/png": "[encoded data removed]",
            "text/plain": [
              "<Figure size 432x288 with 1 Axes>"
            ]
          },
          "metadata": {
            "needs_background": "light"
          }
        }
      ]
    },
    {
      "cell_type": "code",
      "metadata": {
        "colab": {
          "base_uri": "https://localhost:8080/",
          "height": 298
        },
        "id": "EqWO-m9j5eyo",
        "outputId": "9ba3c69e-6815-422c-d9f1-4b87b1e40100"
      },
      "source": [
        "# la mayoria de personas que piden prestamos no tienen hijos \n",
        "df_clean.CNT_CHILDREN.value_counts()[:5].plot(kind= \"barh\", title = \"numero de hijos por persona\", )\n",
        "plt.title(\"presonas con hijo que soliocitan prestamos\")\n",
        "plt.ylabel(\"Numero de hijos\")"
      ],
      "execution_count": null,
      "outputs": [
        {
          "output_type": "execute_result",
          "data": {
            "text/plain": [
              "Text(0, 0.5, 'Numero de hijos')"
            ]
          },
          "metadata": {},
          "execution_count": 157
        },
        {
          "output_type": "display_data",
          "data": {
            "image/png": "[encoded data removed]",
            "text/plain": [
              "<Figure size 432x288 with 1 Axes>"
            ]
          },
          "metadata": {
            "needs_background": "light"
          }
        }
      ]
    },
    {
      "cell_type": "markdown",
      "metadata": {
        "id": "NxwUfphL9YFT"
      },
      "source": [
        "Lo que haremos será quitar estos outliers y agregalos al dataset, dejaremos un maximo de 8 "
      ]
    },
    {
      "cell_type": "code",
      "metadata": {
        "colab": {
          "base_uri": "https://localhost:8080/"
        },
        "id": "7k_sl6GN9o0y",
        "outputId": "a9c0bdc2-1a96-4f27-ba9f-8ed3b8ed9d86"
      },
      "source": [
        "df_clean = df_clean[df_clean.CNT_CHILDREN < 8]\n",
        "df_clean.shape"
      ],
      "execution_count": null,
      "outputs": [
        {
          "output_type": "execute_result",
          "data": {
            "text/plain": [
              "(307497, 18)"
            ]
          },
          "metadata": {},
          "execution_count": 171
        }
      ]
    },
    {
      "cell_type": "code",
      "metadata": {
        "colab": {
          "base_uri": "https://localhost:8080/"
        },
        "id": "UqdRlMPn-Kk7",
        "outputId": "42a9969d-3962-44d3-e909-20e1cc9ad676"
      },
      "source": [
        "df_clean.CNT_CHILDREN.value_counts()"
      ],
      "execution_count": null,
      "outputs": [
        {
          "output_type": "execute_result",
          "data": {
            "text/plain": [
              "0.0    215371\n",
              "1.0     61119\n",
              "2.0     26749\n",
              "3.0      3717\n",
              "4.0       429\n",
              "5.0        84\n",
              "6.0        21\n",
              "7.0         7\n",
              "Name: CNT_CHILDREN, dtype: int64"
            ]
          },
          "metadata": {},
          "execution_count": 175
        }
      ]
    },
    {
      "cell_type": "markdown",
      "metadata": {
        "id": "g58h0U9GbwMA"
      },
      "source": [
        "Despues visualizamos de donde proviene el mayor ingreso de las personas"
      ]
    },
    {
      "cell_type": "code",
      "metadata": {
        "colab": {
          "base_uri": "https://localhost:8080/"
        },
        "id": "pg-6gRK2i2mn",
        "outputId": "757edc16-bf44-41c0-9598-dcc80df9b352"
      },
      "source": [
        "df_clean[\"NAME_INCOME_TYPE\"].value_counts()"
      ],
      "execution_count": null,
      "outputs": [
        {
          "output_type": "execute_result",
          "data": {
            "text/plain": [
              "Working                 158774\n",
              "Commercial associate     71617\n",
              "Pensioner                55362\n",
              "State servant            21703\n",
              "Unemployed                  22\n",
              "Student                     18\n",
              "Businessman                 10\n",
              "Maternity leave              5\n",
              "Name: NAME_INCOME_TYPE, dtype: int64"
            ]
          },
          "metadata": {},
          "execution_count": 24
        }
      ]
    },
    {
      "cell_type": "code",
      "metadata": {
        "colab": {
          "base_uri": "https://localhost:8080/",
          "height": 282
        },
        "id": "kC9pB-I4etRT",
        "outputId": "7c4977c1-7134-4995-81ca-7046cdd1be82"
      },
      "source": [
        "#ploteamos el top 5 ingresos de donde provienen los que piden prestamos, la mayoria son trabajadores, asociaciones comerciales y pensionados en el numero 3\n",
        "#tiene sentido pero hay 22 que tiene prestamos y no tienen empleo en este momento\n",
        "df_clean[\"NAME_INCOME_TYPE\"].value_counts()[:5].plot(kind = \"barh\")"
      ],
      "execution_count": null,
      "outputs": [
        {
          "output_type": "execute_result",
          "data": {
            "text/plain": [
              "<matplotlib.axes._subplots.AxesSubplot at 0x7fe128cae110>"
            ]
          },
          "metadata": {},
          "execution_count": 25
        },
        {
          "output_type": "display_data",
          "data": {
            "image/png": "[encoded data removed]",
            "text/plain": [
              "<Figure size 432x288 with 1 Axes>"
            ]
          },
          "metadata": {
            "needs_background": "light"
          }
        }
      ]
    },
    {
      "cell_type": "markdown",
      "metadata": {
        "id": "WG_-V3Hyj9z0"
      },
      "source": [
        "Ahora veremos el estatus de las personas, quienes seran las que piden mas prestamos"
      ]
    },
    {
      "cell_type": "markdown",
      "metadata": {
        "id": "Fc8l0xZRkfRp"
      },
      "source": [
        "Esto esta muy interesante las personas que mas prestamos piden son las personas de secundaria "
      ]
    },
    {
      "cell_type": "code",
      "metadata": {
        "colab": {
          "base_uri": "https://localhost:8080/"
        },
        "id": "Mc-PGyShk1rc",
        "outputId": "6962d661-8ede-4c57-9abf-621f0eb1dee8"
      },
      "source": [
        "df_clean[\"NAME_EDUCATION_TYPE\"].value_counts()"
      ],
      "execution_count": null,
      "outputs": [
        {
          "output_type": "execute_result",
          "data": {
            "text/plain": [
              "Secondary / secondary special    218391\n",
              "Higher education                  74863\n",
              "Incomplete higher                 10277\n",
              "Lower secondary                    3816\n",
              "Academic degree                     164\n",
              "Name: NAME_EDUCATION_TYPE, dtype: int64"
            ]
          },
          "metadata": {},
          "execution_count": 26
        }
      ]
    },
    {
      "cell_type": "code",
      "metadata": {
        "colab": {
          "base_uri": "https://localhost:8080/",
          "height": 282
        },
        "id": "r0mmp1j8b_uX",
        "outputId": "c7fb3c3d-8399-4e7b-ac4c-2047a1c3c5e3"
      },
      "source": [
        "df_clean[\"NAME_EDUCATION_TYPE\"].value_counts()[:5].plot(kind = \"barh\")"
      ],
      "execution_count": null,
      "outputs": [
        {
          "output_type": "execute_result",
          "data": {
            "text/plain": [
              "<matplotlib.axes._subplots.AxesSubplot at 0x7fe128cb9790>"
            ]
          },
          "metadata": {},
          "execution_count": 27
        },
        {
          "output_type": "display_data",
          "data": {
            "image/png": "[encoded data removed]",
            "text/plain": [
              "<Figure size 432x288 with 1 Axes>"
            ]
          },
          "metadata": {
            "needs_background": "light"
          }
        }
      ]
    },
    {
      "cell_type": "markdown",
      "metadata": {
        "id": "3kHNqgf2k45-"
      },
      "source": [
        "las personas que estan casadas piden mas prestamos"
      ]
    },
    {
      "cell_type": "code",
      "metadata": {
        "colab": {
          "base_uri": "https://localhost:8080/"
        },
        "id": "5wH4WCMJk_RK",
        "outputId": "f74506f0-7fa2-4c79-f1be-c3fd6768a549"
      },
      "source": [
        "df_clean[\"NAME_FAMILY_STATUS\"].value_counts()"
      ],
      "execution_count": null,
      "outputs": [
        {
          "output_type": "execute_result",
          "data": {
            "text/plain": [
              "Married                 196432\n",
              "Single / not married     45444\n",
              "Civil marriage           29775\n",
              "Separated                19770\n",
              "Widow                    16088\n",
              "Unknown                      2\n",
              "Name: NAME_FAMILY_STATUS, dtype: int64"
            ]
          },
          "metadata": {},
          "execution_count": 28
        }
      ]
    },
    {
      "cell_type": "code",
      "metadata": {
        "colab": {
          "base_uri": "https://localhost:8080/",
          "height": 282
        },
        "id": "Z-EV6maEkIdd",
        "outputId": "10582748-fd3b-4728-80e8-5f07fb13732e"
      },
      "source": [
        "df_clean[\"NAME_FAMILY_STATUS\"].value_counts()[:5].plot(kind = \"barh\")"
      ],
      "execution_count": null,
      "outputs": [
        {
          "output_type": "execute_result",
          "data": {
            "text/plain": [
              "<matplotlib.axes._subplots.AxesSubplot at 0x7fe128b9e090>"
            ]
          },
          "metadata": {},
          "execution_count": 29
        },
        {
          "output_type": "display_data",
          "data": {
            "image/png": "[encoded data removed]",
            "text/plain": [
              "<Figure size 432x288 with 1 Axes>"
            ]
          },
          "metadata": {
            "needs_background": "light"
          }
        }
      ]
    },
    {
      "cell_type": "markdown",
      "metadata": {
        "id": "5rpzhnsKl4jg"
      },
      "source": [
        "la mayoria de los que piden prestamos son dueños de casas"
      ]
    },
    {
      "cell_type": "code",
      "metadata": {
        "colab": {
          "base_uri": "https://localhost:8080/"
        },
        "id": "CUfUtCAIl8UG",
        "outputId": "6e557f06-6dc6-4659-ef8d-dd403aab9138"
      },
      "source": [
        "df_clean[\"NAME_HOUSING_TYPE\"].value_counts()"
      ],
      "execution_count": null,
      "outputs": [
        {
          "output_type": "execute_result",
          "data": {
            "text/plain": [
              "House / apartment      272868\n",
              "With parents            14840\n",
              "Municipal apartment     11183\n",
              "Rented apartment         4881\n",
              "Office apartment         2617\n",
              "Co-op apartment          1122\n",
              "Name: NAME_HOUSING_TYPE, dtype: int64"
            ]
          },
          "metadata": {},
          "execution_count": 30
        }
      ]
    },
    {
      "cell_type": "code",
      "metadata": {
        "colab": {
          "base_uri": "https://localhost:8080/",
          "height": 282
        },
        "id": "VonWClbrkIfY",
        "outputId": "35b4ffa8-b640-4915-a620-d41c6466983c"
      },
      "source": [
        "df_clean[\"NAME_HOUSING_TYPE\"].value_counts()[:5].plot(kind = \"barh\")"
      ],
      "execution_count": null,
      "outputs": [
        {
          "output_type": "execute_result",
          "data": {
            "text/plain": [
              "<matplotlib.axes._subplots.AxesSubplot at 0x7fe128b12210>"
            ]
          },
          "metadata": {},
          "execution_count": 31
        },
        {
          "output_type": "display_data",
          "data": {
            "image/png": "[encoded data removed]",
            "text/plain": [
              "<Figure size 432x288 with 1 Axes>"
            ]
          },
          "metadata": {
            "needs_background": "light"
          }
        }
      ]
    },
    {
      "cell_type": "code",
      "metadata": {
        "colab": {
          "base_uri": "https://localhost:8080/",
          "height": 282
        },
        "id": "UEZaKUeNkIml",
        "outputId": "331ea1cf-c2a9-4b42-8078-61fe01096a46"
      },
      "source": [
        "df_clean[\"OCCUPATION_TYPE\"].value_counts()[:5].plot(kind = \"barh\")"
      ],
      "execution_count": null,
      "outputs": [
        {
          "output_type": "execute_result",
          "data": {
            "text/plain": [
              "<matplotlib.axes._subplots.AxesSubplot at 0x7fe1294d2590>"
            ]
          },
          "metadata": {},
          "execution_count": 32
        },
        {
          "output_type": "display_data",
          "data": {
            "image/png": "[encoded data removed]",
            "text/plain": [
              "<Figure size 432x288 with 1 Axes>"
            ]
          },
          "metadata": {
            "needs_background": "light"
          }
        }
      ]
    },
    {
      "cell_type": "markdown",
      "metadata": {
        "id": "CpnAO9cX-yHD"
      },
      "source": [
        "Graficaremos las edades de todos "
      ]
    },
    {
      "cell_type": "code",
      "metadata": {
        "id": "r9txbhLR-2oe"
      },
      "source": [
        "df_clean.YEARS_BIRTH.value_counts().sort_values(ascending = False)"
      ],
      "execution_count": null,
      "outputs": []
    },
    {
      "cell_type": "code",
      "metadata": {
        "id": "KXi3rrRH_Yrp"
      },
      "source": [
        "years = df_clean[\"YEARS_BIRTH\"].astype(\"int\")"
      ],
      "execution_count": null,
      "outputs": []
    },
    {
      "cell_type": "code",
      "metadata": {
        "colab": {
          "base_uri": "https://localhost:8080/",
          "height": 878
        },
        "id": "bQ5O7aZ7_Hbq",
        "outputId": "500d89fe-7b39-413e-ca16-5dc266797995"
      },
      "source": [
        "fig = plt.gcf()\n",
        "fig.set_size_inches(15,15)\n",
        "ax = sns.countplot(x =years, data=df_clean)"
      ],
      "execution_count": null,
      "outputs": [
        {
          "output_type": "display_data",
          "data": {
            "image/png": "[encoded data removed]",
            "text/plain": [
              "<Figure size 1080x1080 with 1 Axes>"
            ]
          },
          "metadata": {
            "needs_background": "light"
          }
        }
      ]
    },
    {
      "cell_type": "markdown",
      "metadata": {
        "id": "iU1VhP1bqurZ"
      },
      "source": [
        "### viendo a fondo las correlaciones"
      ]
    },
    {
      "cell_type": "code",
      "metadata": {
        "colab": {
          "base_uri": "https://localhost:8080/"
        },
        "id": "DD4_t0gZq0sN",
        "outputId": "632e4f26-1f2c-424c-ffb5-8f59263c6eff"
      },
      "source": [
        "#primero vemos los timpo de datos que tenemos\n",
        "df_clean.dtypes"
      ],
      "execution_count": null,
      "outputs": [
        {
          "output_type": "execute_result",
          "data": {
            "text/plain": [
              "TARGET                 float32\n",
              "NAME_CONTRACT_TYPE      object\n",
              "CODE_GENDER             object\n",
              "FLAG_OWN_CAR            object\n",
              "CNT_CHILDREN           float32\n",
              "AMT_INCOME_TOTAL       float64\n",
              "AMT_CREDIT             float64\n",
              "AMT_ANNUITY            float64\n",
              "AMT_GOODS_PRICE        float64\n",
              "NAME_INCOME_TYPE        object\n",
              "NAME_EDUCATION_TYPE     object\n",
              "NAME_FAMILY_STATUS      object\n",
              "NAME_HOUSING_TYPE       object\n",
              "OCCUPATION_TYPE         object\n",
              "YEARS_BIRTH            float32\n",
              "YEAR_EMPLOYED          float32\n",
              "YEARS_REGISTRATION     float32\n",
              "YEARS_ID_PUBLISH       float32\n",
              "dtype: object"
            ]
          },
          "metadata": {},
          "execution_count": 185
        }
      ]
    },
    {
      "cell_type": "code",
      "metadata": {
        "id": "PbTFo2pGq-we"
      },
      "source": [
        "df_clean[\"YEARS_BIRTH\"] = df_clean[\"YEARS_BIRTH\"].astype(\"float32\")\n",
        "df_clean[\"YEAR_EMPLOYED\"] = df_clean[\"YEAR_EMPLOYED\"].astype(\"float32\")\n",
        "df_clean[\"YEARS_REGISTRATION\"] = df_clean[\"YEARS_REGISTRATION\"].astype(\"float32\")\n",
        "df_clean[\"YEARS_ID_PUBLISH\"] = df_clean[\"YEARS_ID_PUBLISH\"].astype(\"float32\")\n",
        "df_clean[\"TARGET\"] = df_clean[\"TARGET\"].astype(\"float32\")\n",
        "df_clean[\"CNT_CHILDREN\"] = df_clean[\"CNT_CHILDREN\"].astype(\"float32\")"
      ],
      "execution_count": null,
      "outputs": []
    },
    {
      "cell_type": "code",
      "metadata": {
        "colab": {
          "base_uri": "https://localhost:8080/",
          "height": 292
        },
        "id": "VdzvkTYSrNNO",
        "outputId": "bfec2279-7d2c-47a1-8579-c38bc19a1baa"
      },
      "source": [
        "df_clean.head()"
      ],
      "execution_count": null,
      "outputs": [
        {
          "output_type": "execute_result",
          "data": {
            "text/html": [
              "<div>\n",
              "<style scoped>\n",
              "    .dataframe tbody tr th:only-of-type {\n",
              "        vertical-align: middle;\n",
              "    }\n",
              "\n",
              "    .dataframe tbody tr th {\n",
              "        vertical-align: top;\n",
              "    }\n",
              "\n",
              "    .dataframe thead th {\n",
              "        text-align: right;\n",
              "    }\n",
              "</style>\n",
              "<table border=\"1\" class=\"dataframe\">\n",
              "  <thead>\n",
              "    <tr style=\"text-align: right;\">\n",
              "      <th></th>\n",
              "      <th>TARGET</th>\n",
              "      <th>NAME_CONTRACT_TYPE</th>\n",
              "      <th>CODE_GENDER</th>\n",
              "      <th>FLAG_OWN_CAR</th>\n",
              "      <th>CNT_CHILDREN</th>\n",
              "      <th>AMT_INCOME_TOTAL</th>\n",
              "      <th>AMT_CREDIT</th>\n",
              "      <th>AMT_ANNUITY</th>\n",
              "      <th>AMT_GOODS_PRICE</th>\n",
              "      <th>NAME_INCOME_TYPE</th>\n",
              "      <th>NAME_EDUCATION_TYPE</th>\n",
              "      <th>NAME_FAMILY_STATUS</th>\n",
              "      <th>NAME_HOUSING_TYPE</th>\n",
              "      <th>OCCUPATION_TYPE</th>\n",
              "      <th>YEARS_BIRTH</th>\n",
              "      <th>YEAR_EMPLOYED</th>\n",
              "      <th>YEARS_REGISTRATION</th>\n",
              "      <th>YEARS_ID_PUBLISH</th>\n",
              "    </tr>\n",
              "  </thead>\n",
              "  <tbody>\n",
              "    <tr>\n",
              "      <th>0</th>\n",
              "      <td>1.0</td>\n",
              "      <td>Cash loans</td>\n",
              "      <td>M</td>\n",
              "      <td>N</td>\n",
              "      <td>0.0</td>\n",
              "      <td>202500.0</td>\n",
              "      <td>406597.5</td>\n",
              "      <td>24700.5</td>\n",
              "      <td>351000.0</td>\n",
              "      <td>Working</td>\n",
              "      <td>Secondary / secondary special</td>\n",
              "      <td>Single / not married</td>\n",
              "      <td>House / apartment</td>\n",
              "      <td>Laborers</td>\n",
              "      <td>25.0</td>\n",
              "      <td>1.0</td>\n",
              "      <td>9.0</td>\n",
              "      <td>5.0</td>\n",
              "    </tr>\n",
              "    <tr>\n",
              "      <th>1</th>\n",
              "      <td>0.0</td>\n",
              "      <td>Cash loans</td>\n",
              "      <td>F</td>\n",
              "      <td>N</td>\n",
              "      <td>0.0</td>\n",
              "      <td>270000.0</td>\n",
              "      <td>1293502.5</td>\n",
              "      <td>35698.5</td>\n",
              "      <td>1129500.0</td>\n",
              "      <td>State servant</td>\n",
              "      <td>Higher education</td>\n",
              "      <td>Married</td>\n",
              "      <td>House / apartment</td>\n",
              "      <td>Core staff</td>\n",
              "      <td>45.0</td>\n",
              "      <td>3.0</td>\n",
              "      <td>3.0</td>\n",
              "      <td>0.0</td>\n",
              "    </tr>\n",
              "    <tr>\n",
              "      <th>2</th>\n",
              "      <td>0.0</td>\n",
              "      <td>Revolving loans</td>\n",
              "      <td>M</td>\n",
              "      <td>Y</td>\n",
              "      <td>0.0</td>\n",
              "      <td>67500.0</td>\n",
              "      <td>135000.0</td>\n",
              "      <td>6750.0</td>\n",
              "      <td>135000.0</td>\n",
              "      <td>Working</td>\n",
              "      <td>Secondary / secondary special</td>\n",
              "      <td>Single / not married</td>\n",
              "      <td>House / apartment</td>\n",
              "      <td>Laborers</td>\n",
              "      <td>52.0</td>\n",
              "      <td>0.0</td>\n",
              "      <td>11.0</td>\n",
              "      <td>6.0</td>\n",
              "    </tr>\n",
              "    <tr>\n",
              "      <th>3</th>\n",
              "      <td>0.0</td>\n",
              "      <td>Cash loans</td>\n",
              "      <td>F</td>\n",
              "      <td>N</td>\n",
              "      <td>0.0</td>\n",
              "      <td>135000.0</td>\n",
              "      <td>312682.5</td>\n",
              "      <td>29686.5</td>\n",
              "      <td>297000.0</td>\n",
              "      <td>Working</td>\n",
              "      <td>Secondary / secondary special</td>\n",
              "      <td>Civil marriage</td>\n",
              "      <td>House / apartment</td>\n",
              "      <td>Laborers</td>\n",
              "      <td>52.0</td>\n",
              "      <td>8.0</td>\n",
              "      <td>26.0</td>\n",
              "      <td>6.0</td>\n",
              "    </tr>\n",
              "    <tr>\n",
              "      <th>4</th>\n",
              "      <td>0.0</td>\n",
              "      <td>Cash loans</td>\n",
              "      <td>M</td>\n",
              "      <td>N</td>\n",
              "      <td>0.0</td>\n",
              "      <td>121500.0</td>\n",
              "      <td>513000.0</td>\n",
              "      <td>21865.5</td>\n",
              "      <td>513000.0</td>\n",
              "      <td>Working</td>\n",
              "      <td>Secondary / secondary special</td>\n",
              "      <td>Single / not married</td>\n",
              "      <td>House / apartment</td>\n",
              "      <td>Core staff</td>\n",
              "      <td>54.0</td>\n",
              "      <td>8.0</td>\n",
              "      <td>11.0</td>\n",
              "      <td>9.0</td>\n",
              "    </tr>\n",
              "  </tbody>\n",
              "</table>\n",
              "</div>"
            ],
            "text/plain": [
              "   TARGET NAME_CONTRACT_TYPE  ... YEARS_REGISTRATION YEARS_ID_PUBLISH\n",
              "0     1.0         Cash loans  ...                9.0              5.0\n",
              "1     0.0         Cash loans  ...                3.0              0.0\n",
              "2     0.0    Revolving loans  ...               11.0              6.0\n",
              "3     0.0         Cash loans  ...               26.0              6.0\n",
              "4     0.0         Cash loans  ...               11.0              9.0\n",
              "\n",
              "[5 rows x 18 columns]"
            ]
          },
          "metadata": {},
          "execution_count": 35
        }
      ]
    },
    {
      "cell_type": "markdown",
      "metadata": {
        "id": "BO6UuH5J6Nun"
      },
      "source": [
        "Correlacion entre varliables"
      ]
    },
    {
      "cell_type": "code",
      "metadata": {
        "colab": {
          "base_uri": "https://localhost:8080/",
          "height": 379
        },
        "id": "SF6_8eBGruDI",
        "outputId": "30f9dde3-06a5-4a0f-d121-61ea96c708f3"
      },
      "source": [
        "# aqui vemos los coeficientes de correlacion\n",
        "#que nos indican que tanto estan relacionados una variable con respecto a la otra\n",
        "corr = df_clean.corr()\n",
        "corr.style.background_gradient(cmap='Blues')"
      ],
      "execution_count": null,
      "outputs": [
        {
          "output_type": "execute_result",
          "data": {
            "text/html": [
              "<style  type=\"text/css\" >\n",
              "#T_33a93df0_3c11_11ec_bbff_0242ac1c0002row0_col0,#T_33a93df0_3c11_11ec_bbff_0242ac1c0002row1_col1,#T_33a93df0_3c11_11ec_bbff_0242ac1c0002row2_col2,#T_33a93df0_3c11_11ec_bbff_0242ac1c0002row3_col3,#T_33a93df0_3c11_11ec_bbff_0242ac1c0002row4_col4,#T_33a93df0_3c11_11ec_bbff_0242ac1c0002row5_col5,#T_33a93df0_3c11_11ec_bbff_0242ac1c0002row6_col6,#T_33a93df0_3c11_11ec_bbff_0242ac1c0002row7_col7,#T_33a93df0_3c11_11ec_bbff_0242ac1c0002row8_col8,#T_33a93df0_3c11_11ec_bbff_0242ac1c0002row9_col9{\n",
              "            background-color:  #08306b;\n",
              "            color:  #f1f1f1;\n",
              "        }#T_33a93df0_3c11_11ec_bbff_0242ac1c0002row0_col1{\n",
              "            background-color:  #c2d9ee;\n",
              "            color:  #000000;\n",
              "        }#T_33a93df0_3c11_11ec_bbff_0242ac1c0002row0_col2,#T_33a93df0_3c11_11ec_bbff_0242ac1c0002row1_col5,#T_33a93df0_3c11_11ec_bbff_0242ac1c0002row3_col9,#T_33a93df0_3c11_11ec_bbff_0242ac1c0002row5_col9,#T_33a93df0_3c11_11ec_bbff_0242ac1c0002row8_col4{\n",
              "            background-color:  #ecf4fb;\n",
              "            color:  #000000;\n",
              "        }#T_33a93df0_3c11_11ec_bbff_0242ac1c0002row0_col3,#T_33a93df0_3c11_11ec_bbff_0242ac1c0002row6_col2,#T_33a93df0_3c11_11ec_bbff_0242ac1c0002row8_col0,#T_33a93df0_3c11_11ec_bbff_0242ac1c0002row8_col2{\n",
              "            background-color:  #f1f7fd;\n",
              "            color:  #000000;\n",
              "        }#T_33a93df0_3c11_11ec_bbff_0242ac1c0002row0_col4{\n",
              "            background-color:  #e7f1fa;\n",
              "            color:  #000000;\n",
              "        }#T_33a93df0_3c11_11ec_bbff_0242ac1c0002row0_col5{\n",
              "            background-color:  #f3f8fe;\n",
              "            color:  #000000;\n",
              "        }#T_33a93df0_3c11_11ec_bbff_0242ac1c0002row0_col6{\n",
              "            background-color:  #d2e3f3;\n",
              "            color:  #000000;\n",
              "        }#T_33a93df0_3c11_11ec_bbff_0242ac1c0002row0_col7{\n",
              "            background-color:  #d8e7f5;\n",
              "            color:  #000000;\n",
              "        }#T_33a93df0_3c11_11ec_bbff_0242ac1c0002row0_col8{\n",
              "            background-color:  #dfecf7;\n",
              "            color:  #000000;\n",
              "        }#T_33a93df0_3c11_11ec_bbff_0242ac1c0002row0_col9,#T_33a93df0_3c11_11ec_bbff_0242ac1c0002row1_col6,#T_33a93df0_3c11_11ec_bbff_0242ac1c0002row1_col7,#T_33a93df0_3c11_11ec_bbff_0242ac1c0002row1_col8,#T_33a93df0_3c11_11ec_bbff_0242ac1c0002row6_col0,#T_33a93df0_3c11_11ec_bbff_0242ac1c0002row6_col1,#T_33a93df0_3c11_11ec_bbff_0242ac1c0002row7_col2,#T_33a93df0_3c11_11ec_bbff_0242ac1c0002row7_col3,#T_33a93df0_3c11_11ec_bbff_0242ac1c0002row7_col4,#T_33a93df0_3c11_11ec_bbff_0242ac1c0002row7_col5{\n",
              "            background-color:  #f7fbff;\n",
              "            color:  #000000;\n",
              "        }#T_33a93df0_3c11_11ec_bbff_0242ac1c0002row1_col0{\n",
              "            background-color:  #e5eff9;\n",
              "            color:  #000000;\n",
              "        }#T_33a93df0_3c11_11ec_bbff_0242ac1c0002row1_col2{\n",
              "            background-color:  #e9f2fa;\n",
              "            color:  #000000;\n",
              "        }#T_33a93df0_3c11_11ec_bbff_0242ac1c0002row1_col3{\n",
              "            background-color:  #eaf3fb;\n",
              "            color:  #000000;\n",
              "        }#T_33a93df0_3c11_11ec_bbff_0242ac1c0002row1_col4,#T_33a93df0_3c11_11ec_bbff_0242ac1c0002row4_col7,#T_33a93df0_3c11_11ec_bbff_0242ac1c0002row6_col3,#T_33a93df0_3c11_11ec_bbff_0242ac1c0002row8_col1{\n",
              "            background-color:  #e1edf8;\n",
              "            color:  #000000;\n",
              "        }#T_33a93df0_3c11_11ec_bbff_0242ac1c0002row1_col9{\n",
              "            background-color:  #e8f1fa;\n",
              "            color:  #000000;\n",
              "        }#T_33a93df0_3c11_11ec_bbff_0242ac1c0002row2_col0,#T_33a93df0_3c11_11ec_bbff_0242ac1c0002row7_col1,#T_33a93df0_3c11_11ec_bbff_0242ac1c0002row9_col3,#T_33a93df0_3c11_11ec_bbff_0242ac1c0002row9_col5{\n",
              "            background-color:  #eaf2fb;\n",
              "            color:  #000000;\n",
              "        }#T_33a93df0_3c11_11ec_bbff_0242ac1c0002row2_col1{\n",
              "            background-color:  #c3daee;\n",
              "            color:  #000000;\n",
              "        }#T_33a93df0_3c11_11ec_bbff_0242ac1c0002row2_col3,#T_33a93df0_3c11_11ec_bbff_0242ac1c0002row2_col5,#T_33a93df0_3c11_11ec_bbff_0242ac1c0002row3_col2,#T_33a93df0_3c11_11ec_bbff_0242ac1c0002row5_col2{\n",
              "            background-color:  #cee0f2;\n",
              "            color:  #000000;\n",
              "        }#T_33a93df0_3c11_11ec_bbff_0242ac1c0002row2_col4,#T_33a93df0_3c11_11ec_bbff_0242ac1c0002row4_col1{\n",
              "            background-color:  #c1d9ed;\n",
              "            color:  #000000;\n",
              "        }#T_33a93df0_3c11_11ec_bbff_0242ac1c0002row2_col6{\n",
              "            background-color:  #cadef0;\n",
              "            color:  #000000;\n",
              "        }#T_33a93df0_3c11_11ec_bbff_0242ac1c0002row2_col7,#T_33a93df0_3c11_11ec_bbff_0242ac1c0002row3_col7{\n",
              "            background-color:  #dbe9f6;\n",
              "            color:  #000000;\n",
              "        }#T_33a93df0_3c11_11ec_bbff_0242ac1c0002row2_col8{\n",
              "            background-color:  #ddeaf7;\n",
              "            color:  #000000;\n",
              "        }#T_33a93df0_3c11_11ec_bbff_0242ac1c0002row2_col9{\n",
              "            background-color:  #eff6fc;\n",
              "            color:  #000000;\n",
              "        }#T_33a93df0_3c11_11ec_bbff_0242ac1c0002row3_col0,#T_33a93df0_3c11_11ec_bbff_0242ac1c0002row8_col5{\n",
              "            background-color:  #eef5fc;\n",
              "            color:  #000000;\n",
              "        }#T_33a93df0_3c11_11ec_bbff_0242ac1c0002row3_col1{\n",
              "            background-color:  #c6dbef;\n",
              "            color:  #000000;\n",
              "        }#T_33a93df0_3c11_11ec_bbff_0242ac1c0002row3_col4{\n",
              "            background-color:  #1966ad;\n",
              "            color:  #f1f1f1;\n",
              "        }#T_33a93df0_3c11_11ec_bbff_0242ac1c0002row3_col5,#T_33a93df0_3c11_11ec_bbff_0242ac1c0002row5_col3{\n",
              "            background-color:  #083370;\n",
              "            color:  #f1f1f1;\n",
              "        }#T_33a93df0_3c11_11ec_bbff_0242ac1c0002row3_col6,#T_33a93df0_3c11_11ec_bbff_0242ac1c0002row5_col6{\n",
              "            background-color:  #b9d6ea;\n",
              "            color:  #000000;\n",
              "        }#T_33a93df0_3c11_11ec_bbff_0242ac1c0002row3_col8,#T_33a93df0_3c11_11ec_bbff_0242ac1c0002row5_col7,#T_33a93df0_3c11_11ec_bbff_0242ac1c0002row5_col8,#T_33a93df0_3c11_11ec_bbff_0242ac1c0002row8_col9{\n",
              "            background-color:  #dae8f6;\n",
              "            color:  #000000;\n",
              "        }#T_33a93df0_3c11_11ec_bbff_0242ac1c0002row4_col0{\n",
              "            background-color:  #ebf3fb;\n",
              "            color:  #000000;\n",
              "        }#T_33a93df0_3c11_11ec_bbff_0242ac1c0002row4_col2,#T_33a93df0_3c11_11ec_bbff_0242ac1c0002row9_col8{\n",
              "            background-color:  #c8dcf0;\n",
              "            color:  #000000;\n",
              "        }#T_33a93df0_3c11_11ec_bbff_0242ac1c0002row4_col3{\n",
              "            background-color:  #1a68ae;\n",
              "            color:  #f1f1f1;\n",
              "        }#T_33a93df0_3c11_11ec_bbff_0242ac1c0002row4_col5{\n",
              "            background-color:  #1967ad;\n",
              "            color:  #f1f1f1;\n",
              "        }#T_33a93df0_3c11_11ec_bbff_0242ac1c0002row4_col6{\n",
              "            background-color:  #c7dcef;\n",
              "            color:  #000000;\n",
              "        }#T_33a93df0_3c11_11ec_bbff_0242ac1c0002row4_col8{\n",
              "            background-color:  #dfebf7;\n",
              "            color:  #000000;\n",
              "        }#T_33a93df0_3c11_11ec_bbff_0242ac1c0002row4_col9,#T_33a93df0_3c11_11ec_bbff_0242ac1c0002row5_col0{\n",
              "            background-color:  #f0f6fd;\n",
              "            color:  #000000;\n",
              "        }#T_33a93df0_3c11_11ec_bbff_0242ac1c0002row5_col1{\n",
              "            background-color:  #c7dbef;\n",
              "            color:  #000000;\n",
              "        }#T_33a93df0_3c11_11ec_bbff_0242ac1c0002row5_col4{\n",
              "            background-color:  #1865ac;\n",
              "            color:  #f1f1f1;\n",
              "        }#T_33a93df0_3c11_11ec_bbff_0242ac1c0002row6_col4,#T_33a93df0_3c11_11ec_bbff_0242ac1c0002row9_col4{\n",
              "            background-color:  #e7f0fa;\n",
              "            color:  #000000;\n",
              "        }#T_33a93df0_3c11_11ec_bbff_0242ac1c0002row6_col5{\n",
              "            background-color:  #e2edf8;\n",
              "            color:  #000000;\n",
              "        }#T_33a93df0_3c11_11ec_bbff_0242ac1c0002row6_col7{\n",
              "            background-color:  #2f7fbc;\n",
              "            color:  #000000;\n",
              "        }#T_33a93df0_3c11_11ec_bbff_0242ac1c0002row6_col8{\n",
              "            background-color:  #85bcdc;\n",
              "            color:  #000000;\n",
              "        }#T_33a93df0_3c11_11ec_bbff_0242ac1c0002row6_col9{\n",
              "            background-color:  #b4d3e9;\n",
              "            color:  #000000;\n",
              "        }#T_33a93df0_3c11_11ec_bbff_0242ac1c0002row7_col0{\n",
              "            background-color:  #f2f7fd;\n",
              "            color:  #000000;\n",
              "        }#T_33a93df0_3c11_11ec_bbff_0242ac1c0002row7_col6{\n",
              "            background-color:  #2a7ab9;\n",
              "            color:  #000000;\n",
              "        }#T_33a93df0_3c11_11ec_bbff_0242ac1c0002row7_col8{\n",
              "            background-color:  #aacfe5;\n",
              "            color:  #000000;\n",
              "        }#T_33a93df0_3c11_11ec_bbff_0242ac1c0002row7_col9{\n",
              "            background-color:  #b3d3e8;\n",
              "            color:  #000000;\n",
              "        }#T_33a93df0_3c11_11ec_bbff_0242ac1c0002row8_col3,#T_33a93df0_3c11_11ec_bbff_0242ac1c0002row9_col2{\n",
              "            background-color:  #edf4fc;\n",
              "            color:  #000000;\n",
              "        }#T_33a93df0_3c11_11ec_bbff_0242ac1c0002row8_col6{\n",
              "            background-color:  #6caed6;\n",
              "            color:  #000000;\n",
              "        }#T_33a93df0_3c11_11ec_bbff_0242ac1c0002row8_col7{\n",
              "            background-color:  #a0cbe2;\n",
              "            color:  #000000;\n",
              "        }#T_33a93df0_3c11_11ec_bbff_0242ac1c0002row9_col0{\n",
              "            background-color:  #f2f8fd;\n",
              "            color:  #000000;\n",
              "        }#T_33a93df0_3c11_11ec_bbff_0242ac1c0002row9_col1{\n",
              "            background-color:  #bfd8ed;\n",
              "            color:  #000000;\n",
              "        }#T_33a93df0_3c11_11ec_bbff_0242ac1c0002row9_col6{\n",
              "            background-color:  #7db8da;\n",
              "            color:  #000000;\n",
              "        }#T_33a93df0_3c11_11ec_bbff_0242ac1c0002row9_col7{\n",
              "            background-color:  #8dc1dd;\n",
              "            color:  #000000;\n",
              "        }</style><table id=\"T_33a93df0_3c11_11ec_bbff_0242ac1c0002\" class=\"dataframe\"><thead>    <tr>        <th class=\"blank level0\" ></th>        <th class=\"col_heading level0 col0\" >TARGET</th>        <th class=\"col_heading level0 col1\" >CNT_CHILDREN</th>        <th class=\"col_heading level0 col2\" >AMT_INCOME_TOTAL</th>        <th class=\"col_heading level0 col3\" >AMT_CREDIT</th>        <th class=\"col_heading level0 col4\" >AMT_ANNUITY</th>        <th class=\"col_heading level0 col5\" >AMT_GOODS_PRICE</th>        <th class=\"col_heading level0 col6\" >YEARS_BIRTH</th>        <th class=\"col_heading level0 col7\" >YEAR_EMPLOYED</th>        <th class=\"col_heading level0 col8\" >YEARS_REGISTRATION</th>        <th class=\"col_heading level0 col9\" >YEARS_ID_PUBLISH</th>    </tr></thead><tbody>\n",
              "                <tr>\n",
              "                        <th id=\"T_33a93df0_3c11_11ec_bbff_0242ac1c0002level0_row0\" class=\"row_heading level0 row0\" >TARGET</th>\n",
              "                        <td id=\"T_33a93df0_3c11_11ec_bbff_0242ac1c0002row0_col0\" class=\"data row0 col0\" >1.000000</td>\n",
              "                        <td id=\"T_33a93df0_3c11_11ec_bbff_0242ac1c0002row0_col1\" class=\"data row0 col1\" >0.019071</td>\n",
              "                        <td id=\"T_33a93df0_3c11_11ec_bbff_0242ac1c0002row0_col2\" class=\"data row0 col2\" >-0.003996</td>\n",
              "                        <td id=\"T_33a93df0_3c11_11ec_bbff_0242ac1c0002row0_col3\" class=\"data row0 col3\" >-0.030385</td>\n",
              "                        <td id=\"T_33a93df0_3c11_11ec_bbff_0242ac1c0002row0_col4\" class=\"data row0 col4\" >-0.012828</td>\n",
              "                        <td id=\"T_33a93df0_3c11_11ec_bbff_0242ac1c0002row0_col5\" class=\"data row0 col5\" >-0.039641</td>\n",
              "                        <td id=\"T_33a93df0_3c11_11ec_bbff_0242ac1c0002row0_col6\" class=\"data row0 col6\" >-0.078231</td>\n",
              "                        <td id=\"T_33a93df0_3c11_11ec_bbff_0242ac1c0002row0_col7\" class=\"data row0 col7\" >-0.047035</td>\n",
              "                        <td id=\"T_33a93df0_3c11_11ec_bbff_0242ac1c0002row0_col8\" class=\"data row0 col8\" >-0.041957</td>\n",
              "                        <td id=\"T_33a93df0_3c11_11ec_bbff_0242ac1c0002row0_col9\" class=\"data row0 col9\" >-0.051126</td>\n",
              "            </tr>\n",
              "            <tr>\n",
              "                        <th id=\"T_33a93df0_3c11_11ec_bbff_0242ac1c0002level0_row1\" class=\"row_heading level0 row1\" >CNT_CHILDREN</th>\n",
              "                        <td id=\"T_33a93df0_3c11_11ec_bbff_0242ac1c0002row1_col0\" class=\"data row1 col0\" >0.019071</td>\n",
              "                        <td id=\"T_33a93df0_3c11_11ec_bbff_0242ac1c0002row1_col1\" class=\"data row1 col1\" >1.000000</td>\n",
              "                        <td id=\"T_33a93df0_3c11_11ec_bbff_0242ac1c0002row1_col2\" class=\"data row1 col2\" >0.013010</td>\n",
              "                        <td id=\"T_33a93df0_3c11_11ec_bbff_0242ac1c0002row1_col3\" class=\"data row1 col3\" >0.002329</td>\n",
              "                        <td id=\"T_33a93df0_3c11_11ec_bbff_0242ac1c0002row1_col4\" class=\"data row1 col4\" >0.021617</td>\n",
              "                        <td id=\"T_33a93df0_3c11_11ec_bbff_0242ac1c0002row1_col5\" class=\"data row1 col5\" >-0.001661</td>\n",
              "                        <td id=\"T_33a93df0_3c11_11ec_bbff_0242ac1c0002row1_col6\" class=\"data row1 col6\" >-0.332736</td>\n",
              "                        <td id=\"T_33a93df0_3c11_11ec_bbff_0242ac1c0002row1_col7\" class=\"data row1 col7\" >-0.242972</td>\n",
              "                        <td id=\"T_33a93df0_3c11_11ec_bbff_0242ac1c0002row1_col8\" class=\"data row1 col8\" >-0.184560</td>\n",
              "                        <td id=\"T_33a93df0_3c11_11ec_bbff_0242ac1c0002row1_col9\" class=\"data row1 col9\" >0.028297</td>\n",
              "            </tr>\n",
              "            <tr>\n",
              "                        <th id=\"T_33a93df0_3c11_11ec_bbff_0242ac1c0002level0_row2\" class=\"row_heading level0 row2\" >AMT_INCOME_TOTAL</th>\n",
              "                        <td id=\"T_33a93df0_3c11_11ec_bbff_0242ac1c0002row2_col0\" class=\"data row2 col0\" >-0.003996</td>\n",
              "                        <td id=\"T_33a93df0_3c11_11ec_bbff_0242ac1c0002row2_col1\" class=\"data row2 col1\" >0.013010</td>\n",
              "                        <td id=\"T_33a93df0_3c11_11ec_bbff_0242ac1c0002row2_col2\" class=\"data row2 col2\" >1.000000</td>\n",
              "                        <td id=\"T_33a93df0_3c11_11ec_bbff_0242ac1c0002row2_col3\" class=\"data row2 col3\" >0.156866</td>\n",
              "                        <td id=\"T_33a93df0_3c11_11ec_bbff_0242ac1c0002row2_col4\" class=\"data row2 col4\" >0.191650</td>\n",
              "                        <td id=\"T_33a93df0_3c11_11ec_bbff_0242ac1c0002row2_col5\" class=\"data row2 col5\" >0.159596</td>\n",
              "                        <td id=\"T_33a93df0_3c11_11ec_bbff_0242ac1c0002row2_col6\" class=\"data row2 col6\" >-0.027228</td>\n",
              "                        <td id=\"T_33a93df0_3c11_11ec_bbff_0242ac1c0002row2_col7\" class=\"data row2 col7\" >-0.063834</td>\n",
              "                        <td id=\"T_33a93df0_3c11_11ec_bbff_0242ac1c0002row2_col8\" class=\"data row2 col8\" >-0.027777</td>\n",
              "                        <td id=\"T_33a93df0_3c11_11ec_bbff_0242ac1c0002row2_col9\" class=\"data row2 col9\" >-0.008646</td>\n",
              "            </tr>\n",
              "            <tr>\n",
              "                        <th id=\"T_33a93df0_3c11_11ec_bbff_0242ac1c0002level0_row3\" class=\"row_heading level0 row3\" >AMT_CREDIT</th>\n",
              "                        <td id=\"T_33a93df0_3c11_11ec_bbff_0242ac1c0002row3_col0\" class=\"data row3 col0\" >-0.030385</td>\n",
              "                        <td id=\"T_33a93df0_3c11_11ec_bbff_0242ac1c0002row3_col1\" class=\"data row3 col1\" >0.002329</td>\n",
              "                        <td id=\"T_33a93df0_3c11_11ec_bbff_0242ac1c0002row3_col2\" class=\"data row3 col2\" >0.156866</td>\n",
              "                        <td id=\"T_33a93df0_3c11_11ec_bbff_0242ac1c0002row3_col3\" class=\"data row3 col3\" >1.000000</td>\n",
              "                        <td id=\"T_33a93df0_3c11_11ec_bbff_0242ac1c0002row3_col4\" class=\"data row3 col4\" >0.770125</td>\n",
              "                        <td id=\"T_33a93df0_3c11_11ec_bbff_0242ac1c0002row3_col5\" class=\"data row3 col5\" >0.986588</td>\n",
              "                        <td id=\"T_33a93df0_3c11_11ec_bbff_0242ac1c0002row3_col6\" class=\"data row3 col6\" >0.055389</td>\n",
              "                        <td id=\"T_33a93df0_3c11_11ec_bbff_0242ac1c0002row3_col7\" class=\"data row3 col7\" >-0.064330</td>\n",
              "                        <td id=\"T_33a93df0_3c11_11ec_bbff_0242ac1c0002row3_col8\" class=\"data row3 col8\" >-0.009531</td>\n",
              "                        <td id=\"T_33a93df0_3c11_11ec_bbff_0242ac1c0002row3_col9\" class=\"data row3 col9\" >0.006836</td>\n",
              "            </tr>\n",
              "            <tr>\n",
              "                        <th id=\"T_33a93df0_3c11_11ec_bbff_0242ac1c0002level0_row4\" class=\"row_heading level0 row4\" >AMT_ANNUITY</th>\n",
              "                        <td id=\"T_33a93df0_3c11_11ec_bbff_0242ac1c0002row4_col0\" class=\"data row4 col0\" >-0.012828</td>\n",
              "                        <td id=\"T_33a93df0_3c11_11ec_bbff_0242ac1c0002row4_col1\" class=\"data row4 col1\" >0.021617</td>\n",
              "                        <td id=\"T_33a93df0_3c11_11ec_bbff_0242ac1c0002row4_col2\" class=\"data row4 col2\" >0.191650</td>\n",
              "                        <td id=\"T_33a93df0_3c11_11ec_bbff_0242ac1c0002row4_col3\" class=\"data row4 col3\" >0.770125</td>\n",
              "                        <td id=\"T_33a93df0_3c11_11ec_bbff_0242ac1c0002row4_col4\" class=\"data row4 col4\" >1.000000</td>\n",
              "                        <td id=\"T_33a93df0_3c11_11ec_bbff_0242ac1c0002row4_col5\" class=\"data row4 col5\" >0.774661</td>\n",
              "                        <td id=\"T_33a93df0_3c11_11ec_bbff_0242ac1c0002row4_col6\" class=\"data row4 col6\" >-0.009471</td>\n",
              "                        <td id=\"T_33a93df0_3c11_11ec_bbff_0242ac1c0002row4_col7\" class=\"data row4 col7\" >-0.102860</td>\n",
              "                        <td id=\"T_33a93df0_3c11_11ec_bbff_0242ac1c0002row4_col8\" class=\"data row4 col8\" >-0.038377</td>\n",
              "                        <td id=\"T_33a93df0_3c11_11ec_bbff_0242ac1c0002row4_col9\" class=\"data row4 col9\" >-0.011099</td>\n",
              "            </tr>\n",
              "            <tr>\n",
              "                        <th id=\"T_33a93df0_3c11_11ec_bbff_0242ac1c0002level0_row5\" class=\"row_heading level0 row5\" >AMT_GOODS_PRICE</th>\n",
              "                        <td id=\"T_33a93df0_3c11_11ec_bbff_0242ac1c0002row5_col0\" class=\"data row5 col0\" >-0.039641</td>\n",
              "                        <td id=\"T_33a93df0_3c11_11ec_bbff_0242ac1c0002row5_col1\" class=\"data row5 col1\" >-0.001661</td>\n",
              "                        <td id=\"T_33a93df0_3c11_11ec_bbff_0242ac1c0002row5_col2\" class=\"data row5 col2\" >0.159596</td>\n",
              "                        <td id=\"T_33a93df0_3c11_11ec_bbff_0242ac1c0002row5_col3\" class=\"data row5 col3\" >0.986588</td>\n",
              "                        <td id=\"T_33a93df0_3c11_11ec_bbff_0242ac1c0002row5_col4\" class=\"data row5 col4\" >0.774661</td>\n",
              "                        <td id=\"T_33a93df0_3c11_11ec_bbff_0242ac1c0002row5_col5\" class=\"data row5 col5\" >1.000000</td>\n",
              "                        <td id=\"T_33a93df0_3c11_11ec_bbff_0242ac1c0002row5_col6\" class=\"data row5 col6\" >0.053370</td>\n",
              "                        <td id=\"T_33a93df0_3c11_11ec_bbff_0242ac1c0002row5_col7\" class=\"data row5 col7\" >-0.062262</td>\n",
              "                        <td id=\"T_33a93df0_3c11_11ec_bbff_0242ac1c0002row5_col8\" class=\"data row5 col8\" >-0.011484</td>\n",
              "                        <td id=\"T_33a93df0_3c11_11ec_bbff_0242ac1c0002row5_col9\" class=\"data row5 col9\" >0.009547</td>\n",
              "            </tr>\n",
              "            <tr>\n",
              "                        <th id=\"T_33a93df0_3c11_11ec_bbff_0242ac1c0002level0_row6\" class=\"row_heading level0 row6\" >YEARS_BIRTH</th>\n",
              "                        <td id=\"T_33a93df0_3c11_11ec_bbff_0242ac1c0002row6_col0\" class=\"data row6 col0\" >-0.078231</td>\n",
              "                        <td id=\"T_33a93df0_3c11_11ec_bbff_0242ac1c0002row6_col1\" class=\"data row6 col1\" >-0.332736</td>\n",
              "                        <td id=\"T_33a93df0_3c11_11ec_bbff_0242ac1c0002row6_col2\" class=\"data row6 col2\" >-0.027228</td>\n",
              "                        <td id=\"T_33a93df0_3c11_11ec_bbff_0242ac1c0002row6_col3\" class=\"data row6 col3\" >0.055389</td>\n",
              "                        <td id=\"T_33a93df0_3c11_11ec_bbff_0242ac1c0002row6_col4\" class=\"data row6 col4\" >-0.009471</td>\n",
              "                        <td id=\"T_33a93df0_3c11_11ec_bbff_0242ac1c0002row6_col5\" class=\"data row6 col5\" >0.053370</td>\n",
              "                        <td id=\"T_33a93df0_3c11_11ec_bbff_0242ac1c0002row6_col6\" class=\"data row6 col6\" >1.000000</td>\n",
              "                        <td id=\"T_33a93df0_3c11_11ec_bbff_0242ac1c0002row6_col7\" class=\"data row6 col7\" >0.623878</td>\n",
              "                        <td id=\"T_33a93df0_3c11_11ec_bbff_0242ac1c0002row6_col8\" class=\"data row6 col8\" >0.331695</td>\n",
              "                        <td id=\"T_33a93df0_3c11_11ec_bbff_0242ac1c0002row6_col9\" class=\"data row6 col9\" >0.271461</td>\n",
              "            </tr>\n",
              "            <tr>\n",
              "                        <th id=\"T_33a93df0_3c11_11ec_bbff_0242ac1c0002level0_row7\" class=\"row_heading level0 row7\" >YEAR_EMPLOYED</th>\n",
              "                        <td id=\"T_33a93df0_3c11_11ec_bbff_0242ac1c0002row7_col0\" class=\"data row7 col0\" >-0.047035</td>\n",
              "                        <td id=\"T_33a93df0_3c11_11ec_bbff_0242ac1c0002row7_col1\" class=\"data row7 col1\" >-0.242972</td>\n",
              "                        <td id=\"T_33a93df0_3c11_11ec_bbff_0242ac1c0002row7_col2\" class=\"data row7 col2\" >-0.063834</td>\n",
              "                        <td id=\"T_33a93df0_3c11_11ec_bbff_0242ac1c0002row7_col3\" class=\"data row7 col3\" >-0.064330</td>\n",
              "                        <td id=\"T_33a93df0_3c11_11ec_bbff_0242ac1c0002row7_col4\" class=\"data row7 col4\" >-0.102860</td>\n",
              "                        <td id=\"T_33a93df0_3c11_11ec_bbff_0242ac1c0002row7_col5\" class=\"data row7 col5\" >-0.062262</td>\n",
              "                        <td id=\"T_33a93df0_3c11_11ec_bbff_0242ac1c0002row7_col6\" class=\"data row7 col6\" >0.623878</td>\n",
              "                        <td id=\"T_33a93df0_3c11_11ec_bbff_0242ac1c0002row7_col7\" class=\"data row7 col7\" >1.000000</td>\n",
              "                        <td id=\"T_33a93df0_3c11_11ec_bbff_0242ac1c0002row7_col8\" class=\"data row7 col8\" >0.214576</td>\n",
              "                        <td id=\"T_33a93df0_3c11_11ec_bbff_0242ac1c0002row7_col9\" class=\"data row7 col9\" >0.274465</td>\n",
              "            </tr>\n",
              "            <tr>\n",
              "                        <th id=\"T_33a93df0_3c11_11ec_bbff_0242ac1c0002level0_row8\" class=\"row_heading level0 row8\" >YEARS_REGISTRATION</th>\n",
              "                        <td id=\"T_33a93df0_3c11_11ec_bbff_0242ac1c0002row8_col0\" class=\"data row8 col0\" >-0.041957</td>\n",
              "                        <td id=\"T_33a93df0_3c11_11ec_bbff_0242ac1c0002row8_col1\" class=\"data row8 col1\" >-0.184560</td>\n",
              "                        <td id=\"T_33a93df0_3c11_11ec_bbff_0242ac1c0002row8_col2\" class=\"data row8 col2\" >-0.027777</td>\n",
              "                        <td id=\"T_33a93df0_3c11_11ec_bbff_0242ac1c0002row8_col3\" class=\"data row8 col3\" >-0.009531</td>\n",
              "                        <td id=\"T_33a93df0_3c11_11ec_bbff_0242ac1c0002row8_col4\" class=\"data row8 col4\" >-0.038377</td>\n",
              "                        <td id=\"T_33a93df0_3c11_11ec_bbff_0242ac1c0002row8_col5\" class=\"data row8 col5\" >-0.011484</td>\n",
              "                        <td id=\"T_33a93df0_3c11_11ec_bbff_0242ac1c0002row8_col6\" class=\"data row8 col6\" >0.331695</td>\n",
              "                        <td id=\"T_33a93df0_3c11_11ec_bbff_0242ac1c0002row8_col7\" class=\"data row8 col7\" >0.214576</td>\n",
              "                        <td id=\"T_33a93df0_3c11_11ec_bbff_0242ac1c0002row8_col8\" class=\"data row8 col8\" >1.000000</td>\n",
              "                        <td id=\"T_33a93df0_3c11_11ec_bbff_0242ac1c0002row8_col9\" class=\"data row8 col9\" >0.101377</td>\n",
              "            </tr>\n",
              "            <tr>\n",
              "                        <th id=\"T_33a93df0_3c11_11ec_bbff_0242ac1c0002level0_row9\" class=\"row_heading level0 row9\" >YEARS_ID_PUBLISH</th>\n",
              "                        <td id=\"T_33a93df0_3c11_11ec_bbff_0242ac1c0002row9_col0\" class=\"data row9 col0\" >-0.051126</td>\n",
              "                        <td id=\"T_33a93df0_3c11_11ec_bbff_0242ac1c0002row9_col1\" class=\"data row9 col1\" >0.028297</td>\n",
              "                        <td id=\"T_33a93df0_3c11_11ec_bbff_0242ac1c0002row9_col2\" class=\"data row9 col2\" >-0.008646</td>\n",
              "                        <td id=\"T_33a93df0_3c11_11ec_bbff_0242ac1c0002row9_col3\" class=\"data row9 col3\" >0.006836</td>\n",
              "                        <td id=\"T_33a93df0_3c11_11ec_bbff_0242ac1c0002row9_col4\" class=\"data row9 col4\" >-0.011099</td>\n",
              "                        <td id=\"T_33a93df0_3c11_11ec_bbff_0242ac1c0002row9_col5\" class=\"data row9 col5\" >0.009547</td>\n",
              "                        <td id=\"T_33a93df0_3c11_11ec_bbff_0242ac1c0002row9_col6\" class=\"data row9 col6\" >0.271461</td>\n",
              "                        <td id=\"T_33a93df0_3c11_11ec_bbff_0242ac1c0002row9_col7\" class=\"data row9 col7\" >0.274465</td>\n",
              "                        <td id=\"T_33a93df0_3c11_11ec_bbff_0242ac1c0002row9_col8\" class=\"data row9 col8\" >0.101377</td>\n",
              "                        <td id=\"T_33a93df0_3c11_11ec_bbff_0242ac1c0002row9_col9\" class=\"data row9 col9\" >1.000000</td>\n",
              "            </tr>\n",
              "    </tbody></table>"
            ],
            "text/plain": [
              "<pandas.io.formats.style.Styler at 0x7fe114be3410>"
            ]
          },
          "metadata": {},
          "execution_count": 199
        }
      ]
    },
    {
      "cell_type": "code",
      "metadata": {
        "colab": {
          "base_uri": "https://localhost:8080/",
          "height": 712
        },
        "id": "Q8CENXav6UIv",
        "outputId": "96601925-7b05-4b74-ae0d-1e349e8dcfe0"
      },
      "source": [
        "import matplotlib.pyplot as plt\n",
        "plt.figure(figsize= (10, 10))\n",
        "sns.heatmap(df_clean.corr(),annot= True, cmap = \"Blues\")"
      ],
      "execution_count": null,
      "outputs": [
        {
          "output_type": "execute_result",
          "data": {
            "text/plain": [
              "<matplotlib.axes._subplots.AxesSubplot at 0x7fe114be3e90>"
            ]
          },
          "metadata": {},
          "execution_count": 200
        },
        {
          "output_type": "display_data",
          "data": {
            "image/png": "[encoded data removed]",
            "text/plain": [
              "<Figure size 720x720 with 2 Axes>"
            ]
          },
          "metadata": {
            "needs_background": "light"
          }
        }
      ]
    },
    {
      "cell_type": "code",
      "metadata": {
        "id": "5U7kpiUaOGAZ"
      },
      "source": [
        "#sns.pairplot(df_clean, hue=\"CODE_GENDER\")"
      ],
      "execution_count": null,
      "outputs": []
    },
    {
      "cell_type": "code",
      "metadata": {
        "colab": {
          "base_uri": "https://localhost:8080/"
        },
        "id": "jRk4j1YaC5Ku",
        "outputId": "ef5ee06f-420e-4b29-9fc9-3fde5d7146a2"
      },
      "source": [
        "# summarize\n",
        "print('data1: mean=%.3f stdv=%.3f' %  (np.mean(df_clean[\"AMT_CREDIT\"]), np.std(df_clean[\"AMT_CREDIT\"])))\n",
        "print('data2: mean=%.3f stdv=%.3f' % (np.mean(df_clean[\"AMT_GOODS_PRICE\"]), np.std(df_clean[\"AMT_GOODS_PRICE\"])))"
      ],
      "execution_count": null,
      "outputs": [
        {
          "output_type": "stream",
          "name": "stdout",
          "text": [
            "data1: mean=599026.000 stdv=402490.123\n",
            "data2: mean=538396.207 stdv=369278.826\n"
          ]
        }
      ]
    },
    {
      "cell_type": "code",
      "metadata": {
        "colab": {
          "base_uri": "https://localhost:8080/"
        },
        "id": "ntJTNhR1QiZf",
        "outputId": "a735dd37-257e-4f6d-9b12-4685774969be"
      },
      "source": [
        "#si la correlacion esta arriba de 0.05 es que tiene una realacion \n",
        "from scipy import stats \n",
        "pearson_correlation, _ = stats.pearsonr(df_clean[\"AMT_CREDIT\"], df_clean[\"AMT_GOODS_PRICE\"])\n",
        "print(\"pearson correlation: \",  pearson_correlation)"
      ],
      "execution_count": null,
      "outputs": [
        {
          "output_type": "stream",
          "name": "stdout",
          "text": [
            "pearson correlation:  0.9865880998787894\n"
          ]
        }
      ]
    },
    {
      "cell_type": "code",
      "metadata": {
        "colab": {
          "base_uri": "https://localhost:8080/",
          "height": 311
        },
        "id": "ohNMUPpG-Mt5",
        "outputId": "0c56b36b-f271-4cda-ca9f-252f9da6b56e"
      },
      "source": [
        "plt.scatter(df_clean[\"AMT_CREDIT\"], df_clean[\"AMT_GOODS_PRICE\"])\n",
        "plt.title(\"correlation between amount of credit and amount of price\")"
      ],
      "execution_count": null,
      "outputs": [
        {
          "output_type": "execute_result",
          "data": {
            "text/plain": [
              "Text(0.5, 1.0, 'correlation between amount of credit and amount of price')"
            ]
          },
          "metadata": {},
          "execution_count": 41
        },
        {
          "output_type": "display_data",
          "data": {
            "image/png": "[encoded data removed]",
            "text/plain": [
              "<Figure size 432x288 with 1 Axes>"
            ]
          },
          "metadata": {
            "needs_background": "light"
          }
        }
      ]
    }
  ]
}